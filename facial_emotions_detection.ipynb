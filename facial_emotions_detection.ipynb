{
  "nbformat": 4,
  "nbformat_minor": 0,
  "metadata": {
    "colab": {
      "provenance": [],
      "authorship_tag": "ABX9TyPijYi3FW3ljZssRhExjt+1",
      "include_colab_link": true
    },
    "kernelspec": {
      "name": "python3",
      "display_name": "Python 3"
    },
    "language_info": {
      "name": "python"
    },
    "accelerator": "GPU",
    "gpuClass": "standard",
    "widgets": {
      "application/vnd.jupyter.widget-state+json": {
        "b2f8d6b9909b4e7f88fde8cd519ded51": {
          "model_module": "@jupyter-widgets/controls",
          "model_name": "HBoxModel",
          "model_module_version": "1.5.0",
          "state": {
            "_dom_classes": [],
            "_model_module": "@jupyter-widgets/controls",
            "_model_module_version": "1.5.0",
            "_model_name": "HBoxModel",
            "_view_count": null,
            "_view_module": "@jupyter-widgets/controls",
            "_view_module_version": "1.5.0",
            "_view_name": "HBoxView",
            "box_style": "",
            "children": [
              "IPY_MODEL_4c67d0be775745f9a5cd864f84b7bd98",
              "IPY_MODEL_75264ee0b1e341cc90f190641836b2e3",
              "IPY_MODEL_1a499e43eb7b49ef8ea98c464a4d2237"
            ],
            "layout": "IPY_MODEL_5fbc7e88cb7c446785de300579762e31"
          }
        },
        "4c67d0be775745f9a5cd864f84b7bd98": {
          "model_module": "@jupyter-widgets/controls",
          "model_name": "HTMLModel",
          "model_module_version": "1.5.0",
          "state": {
            "_dom_classes": [],
            "_model_module": "@jupyter-widgets/controls",
            "_model_module_version": "1.5.0",
            "_model_name": "HTMLModel",
            "_view_count": null,
            "_view_module": "@jupyter-widgets/controls",
            "_view_module_version": "1.5.0",
            "_view_name": "HTMLView",
            "description": "",
            "description_tooltip": null,
            "layout": "IPY_MODEL_fa76575141b5498696bf0f3324e3c22a",
            "placeholder": "​",
            "style": "IPY_MODEL_3d40c96c360642548548c0581db760ee",
            "value": "100%"
          }
        },
        "75264ee0b1e341cc90f190641836b2e3": {
          "model_module": "@jupyter-widgets/controls",
          "model_name": "FloatProgressModel",
          "model_module_version": "1.5.0",
          "state": {
            "_dom_classes": [],
            "_model_module": "@jupyter-widgets/controls",
            "_model_module_version": "1.5.0",
            "_model_name": "FloatProgressModel",
            "_view_count": null,
            "_view_module": "@jupyter-widgets/controls",
            "_view_module_version": "1.5.0",
            "_view_name": "ProgressView",
            "bar_style": "success",
            "description": "",
            "description_tooltip": null,
            "layout": "IPY_MODEL_d046d206fd5d4b83931e96f757f35c20",
            "max": 28709,
            "min": 0,
            "orientation": "horizontal",
            "style": "IPY_MODEL_bbabe12bf52341dabeabf08a01b8d3a2",
            "value": 28709
          }
        },
        "1a499e43eb7b49ef8ea98c464a4d2237": {
          "model_module": "@jupyter-widgets/controls",
          "model_name": "HTMLModel",
          "model_module_version": "1.5.0",
          "state": {
            "_dom_classes": [],
            "_model_module": "@jupyter-widgets/controls",
            "_model_module_version": "1.5.0",
            "_model_name": "HTMLModel",
            "_view_count": null,
            "_view_module": "@jupyter-widgets/controls",
            "_view_module_version": "1.5.0",
            "_view_name": "HTMLView",
            "description": "",
            "description_tooltip": null,
            "layout": "IPY_MODEL_d6e5608df9de48f5964277fa65a5ac19",
            "placeholder": "​",
            "style": "IPY_MODEL_4ae7ee425639481eb5d33e38a875975f",
            "value": " 28709/28709 [00:35&lt;00:00, 885.00it/s]"
          }
        },
        "5fbc7e88cb7c446785de300579762e31": {
          "model_module": "@jupyter-widgets/base",
          "model_name": "LayoutModel",
          "model_module_version": "1.2.0",
          "state": {
            "_model_module": "@jupyter-widgets/base",
            "_model_module_version": "1.2.0",
            "_model_name": "LayoutModel",
            "_view_count": null,
            "_view_module": "@jupyter-widgets/base",
            "_view_module_version": "1.2.0",
            "_view_name": "LayoutView",
            "align_content": null,
            "align_items": null,
            "align_self": null,
            "border": null,
            "bottom": null,
            "display": null,
            "flex": null,
            "flex_flow": null,
            "grid_area": null,
            "grid_auto_columns": null,
            "grid_auto_flow": null,
            "grid_auto_rows": null,
            "grid_column": null,
            "grid_gap": null,
            "grid_row": null,
            "grid_template_areas": null,
            "grid_template_columns": null,
            "grid_template_rows": null,
            "height": null,
            "justify_content": null,
            "justify_items": null,
            "left": null,
            "margin": null,
            "max_height": null,
            "max_width": null,
            "min_height": null,
            "min_width": null,
            "object_fit": null,
            "object_position": null,
            "order": null,
            "overflow": null,
            "overflow_x": null,
            "overflow_y": null,
            "padding": null,
            "right": null,
            "top": null,
            "visibility": null,
            "width": null
          }
        },
        "fa76575141b5498696bf0f3324e3c22a": {
          "model_module": "@jupyter-widgets/base",
          "model_name": "LayoutModel",
          "model_module_version": "1.2.0",
          "state": {
            "_model_module": "@jupyter-widgets/base",
            "_model_module_version": "1.2.0",
            "_model_name": "LayoutModel",
            "_view_count": null,
            "_view_module": "@jupyter-widgets/base",
            "_view_module_version": "1.2.0",
            "_view_name": "LayoutView",
            "align_content": null,
            "align_items": null,
            "align_self": null,
            "border": null,
            "bottom": null,
            "display": null,
            "flex": null,
            "flex_flow": null,
            "grid_area": null,
            "grid_auto_columns": null,
            "grid_auto_flow": null,
            "grid_auto_rows": null,
            "grid_column": null,
            "grid_gap": null,
            "grid_row": null,
            "grid_template_areas": null,
            "grid_template_columns": null,
            "grid_template_rows": null,
            "height": null,
            "justify_content": null,
            "justify_items": null,
            "left": null,
            "margin": null,
            "max_height": null,
            "max_width": null,
            "min_height": null,
            "min_width": null,
            "object_fit": null,
            "object_position": null,
            "order": null,
            "overflow": null,
            "overflow_x": null,
            "overflow_y": null,
            "padding": null,
            "right": null,
            "top": null,
            "visibility": null,
            "width": null
          }
        },
        "3d40c96c360642548548c0581db760ee": {
          "model_module": "@jupyter-widgets/controls",
          "model_name": "DescriptionStyleModel",
          "model_module_version": "1.5.0",
          "state": {
            "_model_module": "@jupyter-widgets/controls",
            "_model_module_version": "1.5.0",
            "_model_name": "DescriptionStyleModel",
            "_view_count": null,
            "_view_module": "@jupyter-widgets/base",
            "_view_module_version": "1.2.0",
            "_view_name": "StyleView",
            "description_width": ""
          }
        },
        "d046d206fd5d4b83931e96f757f35c20": {
          "model_module": "@jupyter-widgets/base",
          "model_name": "LayoutModel",
          "model_module_version": "1.2.0",
          "state": {
            "_model_module": "@jupyter-widgets/base",
            "_model_module_version": "1.2.0",
            "_model_name": "LayoutModel",
            "_view_count": null,
            "_view_module": "@jupyter-widgets/base",
            "_view_module_version": "1.2.0",
            "_view_name": "LayoutView",
            "align_content": null,
            "align_items": null,
            "align_self": null,
            "border": null,
            "bottom": null,
            "display": null,
            "flex": null,
            "flex_flow": null,
            "grid_area": null,
            "grid_auto_columns": null,
            "grid_auto_flow": null,
            "grid_auto_rows": null,
            "grid_column": null,
            "grid_gap": null,
            "grid_row": null,
            "grid_template_areas": null,
            "grid_template_columns": null,
            "grid_template_rows": null,
            "height": null,
            "justify_content": null,
            "justify_items": null,
            "left": null,
            "margin": null,
            "max_height": null,
            "max_width": null,
            "min_height": null,
            "min_width": null,
            "object_fit": null,
            "object_position": null,
            "order": null,
            "overflow": null,
            "overflow_x": null,
            "overflow_y": null,
            "padding": null,
            "right": null,
            "top": null,
            "visibility": null,
            "width": null
          }
        },
        "bbabe12bf52341dabeabf08a01b8d3a2": {
          "model_module": "@jupyter-widgets/controls",
          "model_name": "ProgressStyleModel",
          "model_module_version": "1.5.0",
          "state": {
            "_model_module": "@jupyter-widgets/controls",
            "_model_module_version": "1.5.0",
            "_model_name": "ProgressStyleModel",
            "_view_count": null,
            "_view_module": "@jupyter-widgets/base",
            "_view_module_version": "1.2.0",
            "_view_name": "StyleView",
            "bar_color": null,
            "description_width": ""
          }
        },
        "d6e5608df9de48f5964277fa65a5ac19": {
          "model_module": "@jupyter-widgets/base",
          "model_name": "LayoutModel",
          "model_module_version": "1.2.0",
          "state": {
            "_model_module": "@jupyter-widgets/base",
            "_model_module_version": "1.2.0",
            "_model_name": "LayoutModel",
            "_view_count": null,
            "_view_module": "@jupyter-widgets/base",
            "_view_module_version": "1.2.0",
            "_view_name": "LayoutView",
            "align_content": null,
            "align_items": null,
            "align_self": null,
            "border": null,
            "bottom": null,
            "display": null,
            "flex": null,
            "flex_flow": null,
            "grid_area": null,
            "grid_auto_columns": null,
            "grid_auto_flow": null,
            "grid_auto_rows": null,
            "grid_column": null,
            "grid_gap": null,
            "grid_row": null,
            "grid_template_areas": null,
            "grid_template_columns": null,
            "grid_template_rows": null,
            "height": null,
            "justify_content": null,
            "justify_items": null,
            "left": null,
            "margin": null,
            "max_height": null,
            "max_width": null,
            "min_height": null,
            "min_width": null,
            "object_fit": null,
            "object_position": null,
            "order": null,
            "overflow": null,
            "overflow_x": null,
            "overflow_y": null,
            "padding": null,
            "right": null,
            "top": null,
            "visibility": null,
            "width": null
          }
        },
        "4ae7ee425639481eb5d33e38a875975f": {
          "model_module": "@jupyter-widgets/controls",
          "model_name": "DescriptionStyleModel",
          "model_module_version": "1.5.0",
          "state": {
            "_model_module": "@jupyter-widgets/controls",
            "_model_module_version": "1.5.0",
            "_model_name": "DescriptionStyleModel",
            "_view_count": null,
            "_view_module": "@jupyter-widgets/base",
            "_view_module_version": "1.2.0",
            "_view_name": "StyleView",
            "description_width": ""
          }
        },
        "874ac8c12c4e4b199d1f44ca85177ecf": {
          "model_module": "@jupyter-widgets/controls",
          "model_name": "HBoxModel",
          "model_module_version": "1.5.0",
          "state": {
            "_dom_classes": [],
            "_model_module": "@jupyter-widgets/controls",
            "_model_module_version": "1.5.0",
            "_model_name": "HBoxModel",
            "_view_count": null,
            "_view_module": "@jupyter-widgets/controls",
            "_view_module_version": "1.5.0",
            "_view_name": "HBoxView",
            "box_style": "",
            "children": [
              "IPY_MODEL_8ab9495d192f42b593ec169648dbf388",
              "IPY_MODEL_58390cc1129045d8a8de2d08534fa096",
              "IPY_MODEL_ca6828e251034403b0c126e410934c12"
            ],
            "layout": "IPY_MODEL_1a6a04b19cae4f308355c5db8213c87c"
          }
        },
        "8ab9495d192f42b593ec169648dbf388": {
          "model_module": "@jupyter-widgets/controls",
          "model_name": "HTMLModel",
          "model_module_version": "1.5.0",
          "state": {
            "_dom_classes": [],
            "_model_module": "@jupyter-widgets/controls",
            "_model_module_version": "1.5.0",
            "_model_name": "HTMLModel",
            "_view_count": null,
            "_view_module": "@jupyter-widgets/controls",
            "_view_module_version": "1.5.0",
            "_view_name": "HTMLView",
            "description": "",
            "description_tooltip": null,
            "layout": "IPY_MODEL_01c9a36b86ee47e1a2002b1df7142e60",
            "placeholder": "​",
            "style": "IPY_MODEL_d2f2d4945087461b917f7e2acc7a418d",
            "value": "100%"
          }
        },
        "58390cc1129045d8a8de2d08534fa096": {
          "model_module": "@jupyter-widgets/controls",
          "model_name": "FloatProgressModel",
          "model_module_version": "1.5.0",
          "state": {
            "_dom_classes": [],
            "_model_module": "@jupyter-widgets/controls",
            "_model_module_version": "1.5.0",
            "_model_name": "FloatProgressModel",
            "_view_count": null,
            "_view_module": "@jupyter-widgets/controls",
            "_view_module_version": "1.5.0",
            "_view_name": "ProgressView",
            "bar_style": "success",
            "description": "",
            "description_tooltip": null,
            "layout": "IPY_MODEL_cf178f093fea4fa98cc385a1b9cb385e",
            "max": 3589,
            "min": 0,
            "orientation": "horizontal",
            "style": "IPY_MODEL_f09987ced7f146d9936a4369cf0ce871",
            "value": 3589
          }
        },
        "ca6828e251034403b0c126e410934c12": {
          "model_module": "@jupyter-widgets/controls",
          "model_name": "HTMLModel",
          "model_module_version": "1.5.0",
          "state": {
            "_dom_classes": [],
            "_model_module": "@jupyter-widgets/controls",
            "_model_module_version": "1.5.0",
            "_model_name": "HTMLModel",
            "_view_count": null,
            "_view_module": "@jupyter-widgets/controls",
            "_view_module_version": "1.5.0",
            "_view_name": "HTMLView",
            "description": "",
            "description_tooltip": null,
            "layout": "IPY_MODEL_4f23de376d404a4b8ebae8894de1b331",
            "placeholder": "​",
            "style": "IPY_MODEL_d7aed03a235540f493aea6f25a38b2b6",
            "value": " 3589/3589 [00:04&lt;00:00, 819.87it/s]"
          }
        },
        "1a6a04b19cae4f308355c5db8213c87c": {
          "model_module": "@jupyter-widgets/base",
          "model_name": "LayoutModel",
          "model_module_version": "1.2.0",
          "state": {
            "_model_module": "@jupyter-widgets/base",
            "_model_module_version": "1.2.0",
            "_model_name": "LayoutModel",
            "_view_count": null,
            "_view_module": "@jupyter-widgets/base",
            "_view_module_version": "1.2.0",
            "_view_name": "LayoutView",
            "align_content": null,
            "align_items": null,
            "align_self": null,
            "border": null,
            "bottom": null,
            "display": null,
            "flex": null,
            "flex_flow": null,
            "grid_area": null,
            "grid_auto_columns": null,
            "grid_auto_flow": null,
            "grid_auto_rows": null,
            "grid_column": null,
            "grid_gap": null,
            "grid_row": null,
            "grid_template_areas": null,
            "grid_template_columns": null,
            "grid_template_rows": null,
            "height": null,
            "justify_content": null,
            "justify_items": null,
            "left": null,
            "margin": null,
            "max_height": null,
            "max_width": null,
            "min_height": null,
            "min_width": null,
            "object_fit": null,
            "object_position": null,
            "order": null,
            "overflow": null,
            "overflow_x": null,
            "overflow_y": null,
            "padding": null,
            "right": null,
            "top": null,
            "visibility": null,
            "width": null
          }
        },
        "01c9a36b86ee47e1a2002b1df7142e60": {
          "model_module": "@jupyter-widgets/base",
          "model_name": "LayoutModel",
          "model_module_version": "1.2.0",
          "state": {
            "_model_module": "@jupyter-widgets/base",
            "_model_module_version": "1.2.0",
            "_model_name": "LayoutModel",
            "_view_count": null,
            "_view_module": "@jupyter-widgets/base",
            "_view_module_version": "1.2.0",
            "_view_name": "LayoutView",
            "align_content": null,
            "align_items": null,
            "align_self": null,
            "border": null,
            "bottom": null,
            "display": null,
            "flex": null,
            "flex_flow": null,
            "grid_area": null,
            "grid_auto_columns": null,
            "grid_auto_flow": null,
            "grid_auto_rows": null,
            "grid_column": null,
            "grid_gap": null,
            "grid_row": null,
            "grid_template_areas": null,
            "grid_template_columns": null,
            "grid_template_rows": null,
            "height": null,
            "justify_content": null,
            "justify_items": null,
            "left": null,
            "margin": null,
            "max_height": null,
            "max_width": null,
            "min_height": null,
            "min_width": null,
            "object_fit": null,
            "object_position": null,
            "order": null,
            "overflow": null,
            "overflow_x": null,
            "overflow_y": null,
            "padding": null,
            "right": null,
            "top": null,
            "visibility": null,
            "width": null
          }
        },
        "d2f2d4945087461b917f7e2acc7a418d": {
          "model_module": "@jupyter-widgets/controls",
          "model_name": "DescriptionStyleModel",
          "model_module_version": "1.5.0",
          "state": {
            "_model_module": "@jupyter-widgets/controls",
            "_model_module_version": "1.5.0",
            "_model_name": "DescriptionStyleModel",
            "_view_count": null,
            "_view_module": "@jupyter-widgets/base",
            "_view_module_version": "1.2.0",
            "_view_name": "StyleView",
            "description_width": ""
          }
        },
        "cf178f093fea4fa98cc385a1b9cb385e": {
          "model_module": "@jupyter-widgets/base",
          "model_name": "LayoutModel",
          "model_module_version": "1.2.0",
          "state": {
            "_model_module": "@jupyter-widgets/base",
            "_model_module_version": "1.2.0",
            "_model_name": "LayoutModel",
            "_view_count": null,
            "_view_module": "@jupyter-widgets/base",
            "_view_module_version": "1.2.0",
            "_view_name": "LayoutView",
            "align_content": null,
            "align_items": null,
            "align_self": null,
            "border": null,
            "bottom": null,
            "display": null,
            "flex": null,
            "flex_flow": null,
            "grid_area": null,
            "grid_auto_columns": null,
            "grid_auto_flow": null,
            "grid_auto_rows": null,
            "grid_column": null,
            "grid_gap": null,
            "grid_row": null,
            "grid_template_areas": null,
            "grid_template_columns": null,
            "grid_template_rows": null,
            "height": null,
            "justify_content": null,
            "justify_items": null,
            "left": null,
            "margin": null,
            "max_height": null,
            "max_width": null,
            "min_height": null,
            "min_width": null,
            "object_fit": null,
            "object_position": null,
            "order": null,
            "overflow": null,
            "overflow_x": null,
            "overflow_y": null,
            "padding": null,
            "right": null,
            "top": null,
            "visibility": null,
            "width": null
          }
        },
        "f09987ced7f146d9936a4369cf0ce871": {
          "model_module": "@jupyter-widgets/controls",
          "model_name": "ProgressStyleModel",
          "model_module_version": "1.5.0",
          "state": {
            "_model_module": "@jupyter-widgets/controls",
            "_model_module_version": "1.5.0",
            "_model_name": "ProgressStyleModel",
            "_view_count": null,
            "_view_module": "@jupyter-widgets/base",
            "_view_module_version": "1.2.0",
            "_view_name": "StyleView",
            "bar_color": null,
            "description_width": ""
          }
        },
        "4f23de376d404a4b8ebae8894de1b331": {
          "model_module": "@jupyter-widgets/base",
          "model_name": "LayoutModel",
          "model_module_version": "1.2.0",
          "state": {
            "_model_module": "@jupyter-widgets/base",
            "_model_module_version": "1.2.0",
            "_model_name": "LayoutModel",
            "_view_count": null,
            "_view_module": "@jupyter-widgets/base",
            "_view_module_version": "1.2.0",
            "_view_name": "LayoutView",
            "align_content": null,
            "align_items": null,
            "align_self": null,
            "border": null,
            "bottom": null,
            "display": null,
            "flex": null,
            "flex_flow": null,
            "grid_area": null,
            "grid_auto_columns": null,
            "grid_auto_flow": null,
            "grid_auto_rows": null,
            "grid_column": null,
            "grid_gap": null,
            "grid_row": null,
            "grid_template_areas": null,
            "grid_template_columns": null,
            "grid_template_rows": null,
            "height": null,
            "justify_content": null,
            "justify_items": null,
            "left": null,
            "margin": null,
            "max_height": null,
            "max_width": null,
            "min_height": null,
            "min_width": null,
            "object_fit": null,
            "object_position": null,
            "order": null,
            "overflow": null,
            "overflow_x": null,
            "overflow_y": null,
            "padding": null,
            "right": null,
            "top": null,
            "visibility": null,
            "width": null
          }
        },
        "d7aed03a235540f493aea6f25a38b2b6": {
          "model_module": "@jupyter-widgets/controls",
          "model_name": "DescriptionStyleModel",
          "model_module_version": "1.5.0",
          "state": {
            "_model_module": "@jupyter-widgets/controls",
            "_model_module_version": "1.5.0",
            "_model_name": "DescriptionStyleModel",
            "_view_count": null,
            "_view_module": "@jupyter-widgets/base",
            "_view_module_version": "1.2.0",
            "_view_name": "StyleView",
            "description_width": ""
          }
        }
      }
    }
  },
  "cells": [
    {
      "cell_type": "markdown",
      "metadata": {
        "id": "view-in-github",
        "colab_type": "text"
      },
      "source": [
        "<a href=\"https://colab.research.google.com/github/gnurt2041/Facial-Emotion/blob/main/facial_emotions_detection.ipynb\" target=\"_parent\"><img src=\"https://colab.research.google.com/assets/colab-badge.svg\" alt=\"Open In Colab\"/></a>"
      ]
    },
    {
      "cell_type": "code",
      "execution_count": 78,
      "metadata": {
        "colab": {
          "base_uri": "https://localhost:8080/"
        },
        "id": "M2KWN46qyXFL",
        "outputId": "8726de45-7742-43a8-8bf6-fa9487e94813"
      },
      "outputs": [
        {
          "output_type": "stream",
          "name": "stdout",
          "text": [
            "Drive already mounted at /content/drive; to attempt to forcibly remount, call drive.mount(\"/content/drive\", force_remount=True).\n"
          ]
        }
      ],
      "source": [
        "from google.colab import drive\n",
        "drive.mount('/content/drive')\n",
        "# Insert the directory\n",
        "\n",
        "FOLDERNAME = 'Facial_Emotion_Recognition'\n",
        "assert FOLDERNAME is not None, \"[!] Enter the foldername.\"\n",
        "import sys\n",
        "sys.path.append('/content/drive/MyDrive/{}'.format(FOLDERNAME))"
      ]
    },
    {
      "cell_type": "code",
      "source": [
        "gpu_info = !nvidia-smi\n",
        "gpu_info = '\\n'.join(gpu_info)\n",
        "if gpu_info.find('failed') >= 0:\n",
        "  print('Select the Runtime > \"Change runtime type\" menu to enable a GPU accelerator, ')\n",
        "  print('and then re-execute this cell.')\n",
        "else:\n",
        "  print(gpu_info)"
      ],
      "metadata": {
        "colab": {
          "base_uri": "https://localhost:8080/"
        },
        "id": "Ko6E7OAM4okf",
        "outputId": "69f79ab7-75b5-4312-a3ac-d9e972c8957f"
      },
      "execution_count": 79,
      "outputs": [
        {
          "output_type": "stream",
          "name": "stdout",
          "text": [
            "Tue Jan 17 07:14:44 2023       \n",
            "+-----------------------------------------------------------------------------+\n",
            "| NVIDIA-SMI 460.32.03    Driver Version: 460.32.03    CUDA Version: 11.2     |\n",
            "|-------------------------------+----------------------+----------------------+\n",
            "| GPU  Name        Persistence-M| Bus-Id        Disp.A | Volatile Uncorr. ECC |\n",
            "| Fan  Temp  Perf  Pwr:Usage/Cap|         Memory-Usage | GPU-Util  Compute M. |\n",
            "|                               |                      |               MIG M. |\n",
            "|===============================+======================+======================|\n",
            "|   0  Tesla T4            Off  | 00000000:00:04.0 Off |                    0 |\n",
            "| N/A   38C    P8     9W /  70W |      0MiB / 15109MiB |      0%      Default |\n",
            "|                               |                      |                  N/A |\n",
            "+-------------------------------+----------------------+----------------------+\n",
            "                                                                               \n",
            "+-----------------------------------------------------------------------------+\n",
            "| Processes:                                                                  |\n",
            "|  GPU   GI   CI        PID   Type   Process name                  GPU Memory |\n",
            "|        ID   ID                                                   Usage      |\n",
            "|=============================================================================|\n",
            "|  No running processes found                                                 |\n",
            "+-----------------------------------------------------------------------------+\n"
          ]
        }
      ]
    },
    {
      "cell_type": "code",
      "source": [
        "!unzip  /content/drive/MyDrive/Facial_Emotion_Recognition/archive.zip -d /content/drive/MyDrive/Facial_Emotion_Recognition/"
      ],
      "metadata": {
        "id": "JljBoKz54sKy"
      },
      "execution_count": null,
      "outputs": []
    },
    {
      "cell_type": "code",
      "source": [
        "import pandas as pd\n",
        "import numpy as np\n",
        "import os\n",
        "import matplotlib.pyplot as plt\n",
        "import seaborn as sns\n",
        "import warnings\n",
        "import random\n",
        "from tqdm.notebook import tqdm\n",
        "warnings.filterwarnings('ignore')\n",
        "%matplotlib inline\n",
        "\n",
        "import tensorflow as tf\n",
        "from tensorflow.keras.utils import to_categorical\n",
        "from tensorflow.keras.preprocessing.image import load_img, ImageDataGenerator\n",
        "from keras.models import Sequential\n",
        "from keras.layers import Dense, Conv2D, Dropout, Flatten, MaxPooling2D"
      ],
      "metadata": {
        "id": "ZCWpKIf14o4l"
      },
      "execution_count": 80,
      "outputs": []
    },
    {
      "cell_type": "code",
      "source": [
        "TRAIN_DIR = '/content/drive/MyDrive/Facial_Emotion_Recognition/train/train/'\n",
        "TEST_DIR = '/content/drive/MyDrive/Facial_Emotion_Recognition/test/test/'"
      ],
      "metadata": {
        "id": "RQn06ImF43Kt"
      },
      "execution_count": 81,
      "outputs": []
    },
    {
      "cell_type": "code",
      "source": [
        "def load_dataset(directory,mode = None):\n",
        "    image_paths = []\n",
        "    labels = []\n",
        "    if mode == 'train':\n",
        "        for label in os.listdir(directory):\n",
        "            for filename in os.listdir(directory+label):\n",
        "                \n",
        "                image_path = os.path.join(directory, label, filename)\n",
        "                image_paths.append(image_path)\n",
        "                labels.append(label)\n",
        "            print(label, \"Completed\")\n",
        "    elif mode == 'test':\n",
        "        for label in os.listdir(directory):\n",
        "            for filename in os.listdir(directory+label):\n",
        "                mode_test = filename.split('_')\n",
        "                if mode_test[0] == 'PublicTest':\n",
        "                    image_path = os.path.join(directory, label, filename)\n",
        "                    image_paths.append(image_path)\n",
        "                    labels.append(label)\n",
        "                \n",
        "            print(label, \"Completed\")\n",
        "    return image_paths, labels"
      ],
      "metadata": {
        "id": "ik88Zqd85CFc"
      },
      "execution_count": 122,
      "outputs": []
    },
    {
      "cell_type": "code",
      "source": [
        "## convert into dataframe\n",
        "train = pd.DataFrame()\n",
        "train['image'], train['label'] = load_dataset(TRAIN_DIR,mode='train')\n",
        "# shuffle the dataset\n",
        "train = train.sample(frac=1).reset_index(drop=True)\n",
        "num_train = len(train.index)\n",
        "print('%d samples'%(num_train))\n",
        "train.head()"
      ],
      "metadata": {
        "colab": {
          "base_uri": "https://localhost:8080/",
          "height": 345
        },
        "id": "hScfNO5Z5_V7",
        "outputId": "828a02fd-d3a7-4751-d07c-81da806d77c3"
      },
      "execution_count": 83,
      "outputs": [
        {
          "output_type": "stream",
          "name": "stdout",
          "text": [
            "angry Completed\n",
            "disgust Completed\n",
            "fear Completed\n",
            "happy Completed\n",
            "neutral Completed\n",
            "sad Completed\n",
            "surprise Completed\n",
            "28709 samples\n"
          ]
        },
        {
          "output_type": "execute_result",
          "data": {
            "text/plain": [
              "                                               image     label\n",
              "0  /content/drive/MyDrive/Facial_Emotion_Recognit...   neutral\n",
              "1  /content/drive/MyDrive/Facial_Emotion_Recognit...  surprise\n",
              "2  /content/drive/MyDrive/Facial_Emotion_Recognit...       sad\n",
              "3  /content/drive/MyDrive/Facial_Emotion_Recognit...     angry\n",
              "4  /content/drive/MyDrive/Facial_Emotion_Recognit...   neutral"
            ],
            "text/html": [
              "\n",
              "  <div id=\"df-c75bdcc1-13f1-4866-9f96-cdda426e2559\">\n",
              "    <div class=\"colab-df-container\">\n",
              "      <div>\n",
              "<style scoped>\n",
              "    .dataframe tbody tr th:only-of-type {\n",
              "        vertical-align: middle;\n",
              "    }\n",
              "\n",
              "    .dataframe tbody tr th {\n",
              "        vertical-align: top;\n",
              "    }\n",
              "\n",
              "    .dataframe thead th {\n",
              "        text-align: right;\n",
              "    }\n",
              "</style>\n",
              "<table border=\"1\" class=\"dataframe\">\n",
              "  <thead>\n",
              "    <tr style=\"text-align: right;\">\n",
              "      <th></th>\n",
              "      <th>image</th>\n",
              "      <th>label</th>\n",
              "    </tr>\n",
              "  </thead>\n",
              "  <tbody>\n",
              "    <tr>\n",
              "      <th>0</th>\n",
              "      <td>/content/drive/MyDrive/Facial_Emotion_Recognit...</td>\n",
              "      <td>neutral</td>\n",
              "    </tr>\n",
              "    <tr>\n",
              "      <th>1</th>\n",
              "      <td>/content/drive/MyDrive/Facial_Emotion_Recognit...</td>\n",
              "      <td>surprise</td>\n",
              "    </tr>\n",
              "    <tr>\n",
              "      <th>2</th>\n",
              "      <td>/content/drive/MyDrive/Facial_Emotion_Recognit...</td>\n",
              "      <td>sad</td>\n",
              "    </tr>\n",
              "    <tr>\n",
              "      <th>3</th>\n",
              "      <td>/content/drive/MyDrive/Facial_Emotion_Recognit...</td>\n",
              "      <td>angry</td>\n",
              "    </tr>\n",
              "    <tr>\n",
              "      <th>4</th>\n",
              "      <td>/content/drive/MyDrive/Facial_Emotion_Recognit...</td>\n",
              "      <td>neutral</td>\n",
              "    </tr>\n",
              "  </tbody>\n",
              "</table>\n",
              "</div>\n",
              "      <button class=\"colab-df-convert\" onclick=\"convertToInteractive('df-c75bdcc1-13f1-4866-9f96-cdda426e2559')\"\n",
              "              title=\"Convert this dataframe to an interactive table.\"\n",
              "              style=\"display:none;\">\n",
              "        \n",
              "  <svg xmlns=\"http://www.w3.org/2000/svg\" height=\"24px\"viewBox=\"0 0 24 24\"\n",
              "       width=\"24px\">\n",
              "    <path d=\"M0 0h24v24H0V0z\" fill=\"none\"/>\n",
              "    <path d=\"M18.56 5.44l.94 2.06.94-2.06 2.06-.94-2.06-.94-.94-2.06-.94 2.06-2.06.94zm-11 1L8.5 8.5l.94-2.06 2.06-.94-2.06-.94L8.5 2.5l-.94 2.06-2.06.94zm10 10l.94 2.06.94-2.06 2.06-.94-2.06-.94-.94-2.06-.94 2.06-2.06.94z\"/><path d=\"M17.41 7.96l-1.37-1.37c-.4-.4-.92-.59-1.43-.59-.52 0-1.04.2-1.43.59L10.3 9.45l-7.72 7.72c-.78.78-.78 2.05 0 2.83L4 21.41c.39.39.9.59 1.41.59.51 0 1.02-.2 1.41-.59l7.78-7.78 2.81-2.81c.8-.78.8-2.07 0-2.86zM5.41 20L4 18.59l7.72-7.72 1.47 1.35L5.41 20z\"/>\n",
              "  </svg>\n",
              "      </button>\n",
              "      \n",
              "  <style>\n",
              "    .colab-df-container {\n",
              "      display:flex;\n",
              "      flex-wrap:wrap;\n",
              "      gap: 12px;\n",
              "    }\n",
              "\n",
              "    .colab-df-convert {\n",
              "      background-color: #E8F0FE;\n",
              "      border: none;\n",
              "      border-radius: 50%;\n",
              "      cursor: pointer;\n",
              "      display: none;\n",
              "      fill: #1967D2;\n",
              "      height: 32px;\n",
              "      padding: 0 0 0 0;\n",
              "      width: 32px;\n",
              "    }\n",
              "\n",
              "    .colab-df-convert:hover {\n",
              "      background-color: #E2EBFA;\n",
              "      box-shadow: 0px 1px 2px rgba(60, 64, 67, 0.3), 0px 1px 3px 1px rgba(60, 64, 67, 0.15);\n",
              "      fill: #174EA6;\n",
              "    }\n",
              "\n",
              "    [theme=dark] .colab-df-convert {\n",
              "      background-color: #3B4455;\n",
              "      fill: #D2E3FC;\n",
              "    }\n",
              "\n",
              "    [theme=dark] .colab-df-convert:hover {\n",
              "      background-color: #434B5C;\n",
              "      box-shadow: 0px 1px 3px 1px rgba(0, 0, 0, 0.15);\n",
              "      filter: drop-shadow(0px 1px 2px rgba(0, 0, 0, 0.3));\n",
              "      fill: #FFFFFF;\n",
              "    }\n",
              "  </style>\n",
              "\n",
              "      <script>\n",
              "        const buttonEl =\n",
              "          document.querySelector('#df-c75bdcc1-13f1-4866-9f96-cdda426e2559 button.colab-df-convert');\n",
              "        buttonEl.style.display =\n",
              "          google.colab.kernel.accessAllowed ? 'block' : 'none';\n",
              "\n",
              "        async function convertToInteractive(key) {\n",
              "          const element = document.querySelector('#df-c75bdcc1-13f1-4866-9f96-cdda426e2559');\n",
              "          const dataTable =\n",
              "            await google.colab.kernel.invokeFunction('convertToInteractive',\n",
              "                                                     [key], {});\n",
              "          if (!dataTable) return;\n",
              "\n",
              "          const docLinkHtml = 'Like what you see? Visit the ' +\n",
              "            '<a target=\"_blank\" href=https://colab.research.google.com/notebooks/data_table.ipynb>data table notebook</a>'\n",
              "            + ' to learn more about interactive tables.';\n",
              "          element.innerHTML = '';\n",
              "          dataTable['output_type'] = 'display_data';\n",
              "          await google.colab.output.renderOutput(dataTable, element);\n",
              "          const docLink = document.createElement('div');\n",
              "          docLink.innerHTML = docLinkHtml;\n",
              "          element.appendChild(docLink);\n",
              "        }\n",
              "      </script>\n",
              "    </div>\n",
              "  </div>\n",
              "  "
            ]
          },
          "metadata": {},
          "execution_count": 83
        }
      ]
    },
    {
      "cell_type": "code",
      "source": [
        "test = pd.DataFrame()\n",
        "test['image'], test['label'] = load_dataset(TEST_DIR,mode='test')\n",
        "num_test = len(test.index)\n",
        "print('%d samples'%(num_test))\n",
        "test.head()"
      ],
      "metadata": {
        "colab": {
          "base_uri": "https://localhost:8080/",
          "height": 345
        },
        "id": "uqI_pQVM5bYC",
        "outputId": "adda2bbc-43da-4d53-cf4a-9514fe738d17"
      },
      "execution_count": 84,
      "outputs": [
        {
          "output_type": "stream",
          "name": "stdout",
          "text": [
            "angry Completed\n",
            "disgust Completed\n",
            "fear Completed\n",
            "happy Completed\n",
            "neutral Completed\n",
            "sad Completed\n",
            "surprise Completed\n",
            "3589 samples\n"
          ]
        },
        {
          "output_type": "execute_result",
          "data": {
            "text/plain": [
              "                                               image  label\n",
              "0  /content/drive/MyDrive/Facial_Emotion_Recognit...  angry\n",
              "1  /content/drive/MyDrive/Facial_Emotion_Recognit...  angry\n",
              "2  /content/drive/MyDrive/Facial_Emotion_Recognit...  angry\n",
              "3  /content/drive/MyDrive/Facial_Emotion_Recognit...  angry\n",
              "4  /content/drive/MyDrive/Facial_Emotion_Recognit...  angry"
            ],
            "text/html": [
              "\n",
              "  <div id=\"df-2fcb4f98-8eeb-4212-8549-74939d3650c5\">\n",
              "    <div class=\"colab-df-container\">\n",
              "      <div>\n",
              "<style scoped>\n",
              "    .dataframe tbody tr th:only-of-type {\n",
              "        vertical-align: middle;\n",
              "    }\n",
              "\n",
              "    .dataframe tbody tr th {\n",
              "        vertical-align: top;\n",
              "    }\n",
              "\n",
              "    .dataframe thead th {\n",
              "        text-align: right;\n",
              "    }\n",
              "</style>\n",
              "<table border=\"1\" class=\"dataframe\">\n",
              "  <thead>\n",
              "    <tr style=\"text-align: right;\">\n",
              "      <th></th>\n",
              "      <th>image</th>\n",
              "      <th>label</th>\n",
              "    </tr>\n",
              "  </thead>\n",
              "  <tbody>\n",
              "    <tr>\n",
              "      <th>0</th>\n",
              "      <td>/content/drive/MyDrive/Facial_Emotion_Recognit...</td>\n",
              "      <td>angry</td>\n",
              "    </tr>\n",
              "    <tr>\n",
              "      <th>1</th>\n",
              "      <td>/content/drive/MyDrive/Facial_Emotion_Recognit...</td>\n",
              "      <td>angry</td>\n",
              "    </tr>\n",
              "    <tr>\n",
              "      <th>2</th>\n",
              "      <td>/content/drive/MyDrive/Facial_Emotion_Recognit...</td>\n",
              "      <td>angry</td>\n",
              "    </tr>\n",
              "    <tr>\n",
              "      <th>3</th>\n",
              "      <td>/content/drive/MyDrive/Facial_Emotion_Recognit...</td>\n",
              "      <td>angry</td>\n",
              "    </tr>\n",
              "    <tr>\n",
              "      <th>4</th>\n",
              "      <td>/content/drive/MyDrive/Facial_Emotion_Recognit...</td>\n",
              "      <td>angry</td>\n",
              "    </tr>\n",
              "  </tbody>\n",
              "</table>\n",
              "</div>\n",
              "      <button class=\"colab-df-convert\" onclick=\"convertToInteractive('df-2fcb4f98-8eeb-4212-8549-74939d3650c5')\"\n",
              "              title=\"Convert this dataframe to an interactive table.\"\n",
              "              style=\"display:none;\">\n",
              "        \n",
              "  <svg xmlns=\"http://www.w3.org/2000/svg\" height=\"24px\"viewBox=\"0 0 24 24\"\n",
              "       width=\"24px\">\n",
              "    <path d=\"M0 0h24v24H0V0z\" fill=\"none\"/>\n",
              "    <path d=\"M18.56 5.44l.94 2.06.94-2.06 2.06-.94-2.06-.94-.94-2.06-.94 2.06-2.06.94zm-11 1L8.5 8.5l.94-2.06 2.06-.94-2.06-.94L8.5 2.5l-.94 2.06-2.06.94zm10 10l.94 2.06.94-2.06 2.06-.94-2.06-.94-.94-2.06-.94 2.06-2.06.94z\"/><path d=\"M17.41 7.96l-1.37-1.37c-.4-.4-.92-.59-1.43-.59-.52 0-1.04.2-1.43.59L10.3 9.45l-7.72 7.72c-.78.78-.78 2.05 0 2.83L4 21.41c.39.39.9.59 1.41.59.51 0 1.02-.2 1.41-.59l7.78-7.78 2.81-2.81c.8-.78.8-2.07 0-2.86zM5.41 20L4 18.59l7.72-7.72 1.47 1.35L5.41 20z\"/>\n",
              "  </svg>\n",
              "      </button>\n",
              "      \n",
              "  <style>\n",
              "    .colab-df-container {\n",
              "      display:flex;\n",
              "      flex-wrap:wrap;\n",
              "      gap: 12px;\n",
              "    }\n",
              "\n",
              "    .colab-df-convert {\n",
              "      background-color: #E8F0FE;\n",
              "      border: none;\n",
              "      border-radius: 50%;\n",
              "      cursor: pointer;\n",
              "      display: none;\n",
              "      fill: #1967D2;\n",
              "      height: 32px;\n",
              "      padding: 0 0 0 0;\n",
              "      width: 32px;\n",
              "    }\n",
              "\n",
              "    .colab-df-convert:hover {\n",
              "      background-color: #E2EBFA;\n",
              "      box-shadow: 0px 1px 2px rgba(60, 64, 67, 0.3), 0px 1px 3px 1px rgba(60, 64, 67, 0.15);\n",
              "      fill: #174EA6;\n",
              "    }\n",
              "\n",
              "    [theme=dark] .colab-df-convert {\n",
              "      background-color: #3B4455;\n",
              "      fill: #D2E3FC;\n",
              "    }\n",
              "\n",
              "    [theme=dark] .colab-df-convert:hover {\n",
              "      background-color: #434B5C;\n",
              "      box-shadow: 0px 1px 3px 1px rgba(0, 0, 0, 0.15);\n",
              "      filter: drop-shadow(0px 1px 2px rgba(0, 0, 0, 0.3));\n",
              "      fill: #FFFFFF;\n",
              "    }\n",
              "  </style>\n",
              "\n",
              "      <script>\n",
              "        const buttonEl =\n",
              "          document.querySelector('#df-2fcb4f98-8eeb-4212-8549-74939d3650c5 button.colab-df-convert');\n",
              "        buttonEl.style.display =\n",
              "          google.colab.kernel.accessAllowed ? 'block' : 'none';\n",
              "\n",
              "        async function convertToInteractive(key) {\n",
              "          const element = document.querySelector('#df-2fcb4f98-8eeb-4212-8549-74939d3650c5');\n",
              "          const dataTable =\n",
              "            await google.colab.kernel.invokeFunction('convertToInteractive',\n",
              "                                                     [key], {});\n",
              "          if (!dataTable) return;\n",
              "\n",
              "          const docLinkHtml = 'Like what you see? Visit the ' +\n",
              "            '<a target=\"_blank\" href=https://colab.research.google.com/notebooks/data_table.ipynb>data table notebook</a>'\n",
              "            + ' to learn more about interactive tables.';\n",
              "          element.innerHTML = '';\n",
              "          dataTable['output_type'] = 'display_data';\n",
              "          await google.colab.output.renderOutput(dataTable, element);\n",
              "          const docLink = document.createElement('div');\n",
              "          docLink.innerHTML = docLinkHtml;\n",
              "          element.appendChild(docLink);\n",
              "        }\n",
              "      </script>\n",
              "    </div>\n",
              "  </div>\n",
              "  "
            ]
          },
          "metadata": {},
          "execution_count": 84
        }
      ]
    },
    {
      "cell_type": "code",
      "source": [
        "sns.countplot(train['label'])"
      ],
      "metadata": {
        "colab": {
          "base_uri": "https://localhost:8080/",
          "height": 296
        },
        "id": "iSYAISBH5o6R",
        "outputId": "614a3929-7e3d-46e0-cd1d-1794f41c8799"
      },
      "execution_count": 85,
      "outputs": [
        {
          "output_type": "execute_result",
          "data": {
            "text/plain": [
              "<matplotlib.axes._subplots.AxesSubplot at 0x7fdeb260b490>"
            ]
          },
          "metadata": {},
          "execution_count": 85
        },
        {
          "output_type": "display_data",
          "data": {
            "text/plain": [
              "<Figure size 432x288 with 1 Axes>"
            ],
            "image/png": "[encoded data removed]"
          },
          "metadata": {
            "needs_background": "light"
          }
        }
      ]
    },
    {
      "cell_type": "code",
      "source": [
        "from PIL import Image\n",
        "rand_index = np.random.choice(num_train,1)[0]\n",
        "print('Random image index: %d'%(rand_index))\n",
        "img = Image.open(train['image'][rand_index])\n",
        "plt.imshow(img, cmap='gray');"
      ],
      "metadata": {
        "colab": {
          "base_uri": "https://localhost:8080/",
          "height": 284
        },
        "id": "fR-bFIkp6NN8",
        "outputId": "103cc051-d2e6-49ab-a0fb-7ad60e5944c2"
      },
      "execution_count": 107,
      "outputs": [
        {
          "output_type": "stream",
          "name": "stdout",
          "text": [
            "Random image index: 13758\n"
          ]
        },
        {
          "output_type": "display_data",
          "data": {
            "text/plain": [
              "<Figure size 432x288 with 1 Axes>"
            ],
            "image/png": "[encoded data removed]"
          },
          "metadata": {
            "needs_background": "light"
          }
        }
      ]
    },
    {
      "cell_type": "code",
      "source": [
        "# to display grid of images\n",
        "plt.figure(figsize=(20,20))\n",
        "files = train.iloc[0:25]\n",
        "\n",
        "for index, file, label in files.itertuples():\n",
        "    plt.subplot(5, 5, index+1)\n",
        "    img = load_img(file)\n",
        "    img = np.array(img)\n",
        "    plt.imshow(img)\n",
        "    plt.title(label)\n",
        "    plt.axis('off')"
      ],
      "metadata": {
        "colab": {
          "base_uri": "https://localhost:8080/",
          "height": 1000
        },
        "id": "BmIM9XDq6O9J",
        "outputId": "17ce621f-2296-4047-8cc1-51e7f3fd7590"
      },
      "execution_count": 108,
      "outputs": [
        {
          "output_type": "display_data",
          "data": {
            "text/plain": [
              "<Figure size 1440x1440 with 25 Axes>"
            ],
            "image/png": "[encoded data removed]"
          },
          "metadata": {
            "needs_background": "light"
          }
        }
      ]
    },
    {
      "cell_type": "code",
      "source": [
        "def extract_features(images):\n",
        "    features = []\n",
        "    for image in tqdm(images):\n",
        "        img = load_img(image, grayscale=True)\n",
        "        img = np.array(img)\n",
        "        features.append(img)\n",
        "    features = np.array(features)\n",
        "    features = features.reshape(len(features), 48, 48, 1)\n",
        "    return features"
      ],
      "metadata": {
        "id": "av3H1wdm6T_x"
      },
      "execution_count": 109,
      "outputs": []
    },
    {
      "cell_type": "code",
      "source": [
        "train_features = extract_features(train['image'])"
      ],
      "metadata": {
        "colab": {
          "base_uri": "https://localhost:8080/",
          "height": 49,
          "referenced_widgets": [
            "b2f8d6b9909b4e7f88fde8cd519ded51",
            "4c67d0be775745f9a5cd864f84b7bd98",
            "75264ee0b1e341cc90f190641836b2e3",
            "1a499e43eb7b49ef8ea98c464a4d2237",
            "5fbc7e88cb7c446785de300579762e31",
            "fa76575141b5498696bf0f3324e3c22a",
            "3d40c96c360642548548c0581db760ee",
            "d046d206fd5d4b83931e96f757f35c20",
            "bbabe12bf52341dabeabf08a01b8d3a2",
            "d6e5608df9de48f5964277fa65a5ac19",
            "4ae7ee425639481eb5d33e38a875975f"
          ]
        },
        "id": "XPrkbynq6Ypq",
        "outputId": "4e31632e-4bae-448e-bd7e-21c8dd977ca0"
      },
      "execution_count": 110,
      "outputs": [
        {
          "output_type": "display_data",
          "data": {
            "text/plain": [
              "  0%|          | 0/28709 [00:00<?, ?it/s]"
            ],
            "application/vnd.jupyter.widget-view+json": {
              "version_major": 2,
              "version_minor": 0,
              "model_id": "b2f8d6b9909b4e7f88fde8cd519ded51"
            }
          },
          "metadata": {}
        }
      ]
    },
    {
      "cell_type": "code",
      "source": [
        "test_features = extract_features(test['image'])"
      ],
      "metadata": {
        "colab": {
          "base_uri": "https://localhost:8080/",
          "height": 49,
          "referenced_widgets": [
            "874ac8c12c4e4b199d1f44ca85177ecf",
            "8ab9495d192f42b593ec169648dbf388",
            "58390cc1129045d8a8de2d08534fa096",
            "ca6828e251034403b0c126e410934c12",
            "1a6a04b19cae4f308355c5db8213c87c",
            "01c9a36b86ee47e1a2002b1df7142e60",
            "d2f2d4945087461b917f7e2acc7a418d",
            "cf178f093fea4fa98cc385a1b9cb385e",
            "f09987ced7f146d9936a4369cf0ce871",
            "4f23de376d404a4b8ebae8894de1b331",
            "d7aed03a235540f493aea6f25a38b2b6"
          ]
        },
        "id": "kYMVrG0r6avk",
        "outputId": "27e98329-18f8-4f52-f32f-95e8ee6bd536"
      },
      "execution_count": 111,
      "outputs": [
        {
          "output_type": "display_data",
          "data": {
            "text/plain": [
              "  0%|          | 0/3589 [00:00<?, ?it/s]"
            ],
            "application/vnd.jupyter.widget-view+json": {
              "version_major": 2,
              "version_minor": 0,
              "model_id": "874ac8c12c4e4b199d1f44ca85177ecf"
            }
          },
          "metadata": {}
        }
      ]
    },
    {
      "cell_type": "code",
      "source": [
        "## normalize the image\n",
        "x_train = train_features/255.0\n",
        "x_test = test_features/255.0"
      ],
      "metadata": {
        "id": "fRNyRv3c6c_S"
      },
      "execution_count": 112,
      "outputs": []
    },
    {
      "cell_type": "code",
      "source": [
        "## convert label to integer\n",
        "from sklearn.preprocessing import LabelEncoder\n",
        "le = LabelEncoder()\n",
        "le.fit(train['label'])\n",
        "y_train = le.transform(train['label'])\n",
        "y_test = le.transform(test['label'])"
      ],
      "metadata": {
        "id": "nYQFBkKc6fD-"
      },
      "execution_count": 113,
      "outputs": []
    },
    {
      "cell_type": "code",
      "source": [
        "y_train = to_categorical(y_train, num_classes=7)\n",
        "y_test = to_categorical(y_test, num_classes=7)"
      ],
      "metadata": {
        "id": "0DV7iXdK6isp"
      },
      "execution_count": 114,
      "outputs": []
    },
    {
      "cell_type": "code",
      "source": [
        "# config\n",
        "input_shape = (48, 48, 1)\n",
        "output_class = 7"
      ],
      "metadata": {
        "id": "3ctPjlbp6luD"
      },
      "execution_count": 115,
      "outputs": []
    },
    {
      "cell_type": "code",
      "source": [
        "model = Sequential()\n",
        "# convolutional layers\n",
        "model.add(Conv2D(128, kernel_size=(3,3), activation='relu', input_shape=input_shape))\n",
        "model.add(MaxPooling2D(pool_size=(2,2)))\n",
        "model.add(Dropout(0.4))\n",
        "\n",
        "model.add(Conv2D(256, kernel_size=(3,3), activation='relu'))\n",
        "model.add(MaxPooling2D(pool_size=(2,2)))\n",
        "model.add(Dropout(0.4))\n",
        "\n",
        "model.add(Conv2D(512, kernel_size=(3,3), activation='relu'))\n",
        "model.add(MaxPooling2D(pool_size=(2,2)))\n",
        "model.add(Dropout(0.4))\n",
        "\n",
        "model.add(Conv2D(512, kernel_size=(3,3), activation='relu'))\n",
        "model.add(MaxPooling2D(pool_size=(2,2)))\n",
        "model.add(Dropout(0.4))\n",
        "\n",
        "model.add(Flatten())\n",
        "# fully connected layers\n",
        "model.add(Dense(512, activation='relu'))\n",
        "model.add(Dropout(0.4))\n",
        "model.add(Dense(256, activation='relu'))\n",
        "model.add(Dropout(0.3))\n",
        "# output layer\n",
        "model.add(Dense(output_class, activation='softmax'))\n",
        "\n",
        "model.compile(optimizer='adam', loss='categorical_crossentropy', metrics='accuracy')"
      ],
      "metadata": {
        "id": "raE4eywx6osl"
      },
      "execution_count": 116,
      "outputs": []
    },
    {
      "cell_type": "code",
      "source": [
        "model.summary()"
      ],
      "metadata": {
        "colab": {
          "base_uri": "https://localhost:8080/"
        },
        "id": "lutyOiZy_k-H",
        "outputId": "e481de91-1354-4001-85a8-d52101c4633e"
      },
      "execution_count": 117,
      "outputs": [
        {
          "output_type": "stream",
          "name": "stdout",
          "text": [
            "Model: \"sequential\"\n",
            "_________________________________________________________________\n",
            " Layer (type)                Output Shape              Param #   \n",
            "=================================================================\n",
            " conv2d (Conv2D)             (None, 46, 46, 128)       1280      \n",
            "                                                                 \n",
            " max_pooling2d (MaxPooling2D  (None, 23, 23, 128)      0         \n",
            " )                                                               \n",
            "                                                                 \n",
            " dropout (Dropout)           (None, 23, 23, 128)       0         \n",
            "                                                                 \n",
            " conv2d_1 (Conv2D)           (None, 21, 21, 256)       295168    \n",
            "                                                                 \n",
            " max_pooling2d_1 (MaxPooling  (None, 10, 10, 256)      0         \n",
            " 2D)                                                             \n",
            "                                                                 \n",
            " dropout_1 (Dropout)         (None, 10, 10, 256)       0         \n",
            "                                                                 \n",
            " conv2d_2 (Conv2D)           (None, 8, 8, 512)         1180160   \n",
            "                                                                 \n",
            " max_pooling2d_2 (MaxPooling  (None, 4, 4, 512)        0         \n",
            " 2D)                                                             \n",
            "                                                                 \n",
            " dropout_2 (Dropout)         (None, 4, 4, 512)         0         \n",
            "                                                                 \n",
            " conv2d_3 (Conv2D)           (None, 2, 2, 512)         2359808   \n",
            "                                                                 \n",
            " max_pooling2d_3 (MaxPooling  (None, 1, 1, 512)        0         \n",
            " 2D)                                                             \n",
            "                                                                 \n",
            " dropout_3 (Dropout)         (None, 1, 1, 512)         0         \n",
            "                                                                 \n",
            " flatten (Flatten)           (None, 512)               0         \n",
            "                                                                 \n",
            " dense (Dense)               (None, 512)               262656    \n",
            "                                                                 \n",
            " dropout_4 (Dropout)         (None, 512)               0         \n",
            "                                                                 \n",
            " dense_1 (Dense)             (None, 256)               131328    \n",
            "                                                                 \n",
            " dropout_5 (Dropout)         (None, 256)               0         \n",
            "                                                                 \n",
            " dense_2 (Dense)             (None, 7)                 1799      \n",
            "                                                                 \n",
            "=================================================================\n",
            "Total params: 4,232,199\n",
            "Trainable params: 4,232,199\n",
            "Non-trainable params: 0\n",
            "_________________________________________________________________\n"
          ]
        }
      ]
    },
    {
      "cell_type": "code",
      "source": [
        "!pip install livelossplot"
      ],
      "metadata": {
        "id": "QZr5MqXxltYa"
      },
      "execution_count": null,
      "outputs": []
    },
    {
      "cell_type": "code",
      "source": [
        "from tensorflow.keras.callbacks import ModelCheckpoint, ReduceLROnPlateau\n",
        "from livelossplot.tf_keras import PlotLossesCallback\n",
        "reduce_lr = ReduceLROnPlateau(monitor='val_loss', factor=0.1,\n",
        "                              patience=2, min_lr=0.00001, mode='auto')\n",
        "checkpoint = ModelCheckpoint(\"model_weights.h5\", monitor='val_accuracy',\n",
        "                             save_weights_only=True, mode='max', verbose=1)\n",
        "callbacks = [PlotLossesCallback(), checkpoint, reduce_lr]"
      ],
      "metadata": {
        "id": "URucG3STclcW"
      },
      "execution_count": 120,
      "outputs": []
    },
    {
      "cell_type": "code",
      "source": [
        "# train the model\n",
        "history = model.fit(x=x_train, y=y_train, batch_size=128, epochs=100, validation_data=(x_test, y_test))"
      ],
      "metadata": {
        "colab": {
          "base_uri": "https://localhost:8080/"
        },
        "id": "ZS2NhoyY6tkV",
        "outputId": "2e8d23ef-12db-49c3-ca1d-a01fec8f5ca7"
      },
      "execution_count": 121,
      "outputs": [
        {
          "output_type": "stream",
          "name": "stdout",
          "text": [
            "Epoch 1/100\n",
            "225/225 [==============================] - 25s 54ms/step - loss: 1.8228 - accuracy: 0.2487 - val_loss: 1.8107 - val_accuracy: 0.2494\n",
            "Epoch 2/100\n",
            "225/225 [==============================] - 11s 50ms/step - loss: 1.7966 - accuracy: 0.2543 - val_loss: 1.7454 - val_accuracy: 0.2817\n",
            "Epoch 3/100\n",
            "225/225 [==============================] - 11s 49ms/step - loss: 1.7155 - accuracy: 0.2976 - val_loss: 1.6143 - val_accuracy: 0.3586\n",
            "Epoch 4/100\n",
            "225/225 [==============================] - 11s 49ms/step - loss: 1.5970 - accuracy: 0.3695 - val_loss: 1.4526 - val_accuracy: 0.4294\n",
            "Epoch 5/100\n",
            "225/225 [==============================] - 11s 49ms/step - loss: 1.4928 - accuracy: 0.4183 - val_loss: 1.3861 - val_accuracy: 0.4419\n",
            "Epoch 6/100\n",
            "225/225 [==============================] - 12s 52ms/step - loss: 1.4277 - accuracy: 0.4477 - val_loss: 1.3459 - val_accuracy: 0.4748\n",
            "Epoch 7/100\n",
            "225/225 [==============================] - 12s 51ms/step - loss: 1.3904 - accuracy: 0.4661 - val_loss: 1.2766 - val_accuracy: 0.5077\n",
            "Epoch 8/100\n",
            "225/225 [==============================] - 12s 52ms/step - loss: 1.3587 - accuracy: 0.4796 - val_loss: 1.2466 - val_accuracy: 0.5261\n",
            "Epoch 9/100\n",
            "225/225 [==============================] - 12s 52ms/step - loss: 1.3234 - accuracy: 0.4921 - val_loss: 1.2501 - val_accuracy: 0.5227\n",
            "Epoch 10/100\n",
            "225/225 [==============================] - 11s 51ms/step - loss: 1.3081 - accuracy: 0.4994 - val_loss: 1.2078 - val_accuracy: 0.5400\n",
            "Epoch 11/100\n",
            "225/225 [==============================] - 12s 51ms/step - loss: 1.2812 - accuracy: 0.5113 - val_loss: 1.1849 - val_accuracy: 0.5481\n",
            "Epoch 12/100\n",
            "225/225 [==============================] - 12s 52ms/step - loss: 1.2682 - accuracy: 0.5172 - val_loss: 1.1876 - val_accuracy: 0.5500\n",
            "Epoch 13/100\n",
            "225/225 [==============================] - 11s 50ms/step - loss: 1.2524 - accuracy: 0.5244 - val_loss: 1.1706 - val_accuracy: 0.5525\n",
            "Epoch 14/100\n",
            "225/225 [==============================] - 11s 51ms/step - loss: 1.2338 - accuracy: 0.5316 - val_loss: 1.1474 - val_accuracy: 0.5612\n",
            "Epoch 15/100\n",
            "225/225 [==============================] - 12s 51ms/step - loss: 1.2233 - accuracy: 0.5357 - val_loss: 1.1447 - val_accuracy: 0.5634\n",
            "Epoch 16/100\n",
            "225/225 [==============================] - 12s 51ms/step - loss: 1.2094 - accuracy: 0.5414 - val_loss: 1.1343 - val_accuracy: 0.5634\n",
            "Epoch 17/100\n",
            "225/225 [==============================] - 12s 51ms/step - loss: 1.1999 - accuracy: 0.5437 - val_loss: 1.1441 - val_accuracy: 0.5723\n",
            "Epoch 18/100\n",
            "225/225 [==============================] - 12s 53ms/step - loss: 1.1894 - accuracy: 0.5488 - val_loss: 1.1279 - val_accuracy: 0.5684\n",
            "Epoch 19/100\n",
            "225/225 [==============================] - 11s 51ms/step - loss: 1.1822 - accuracy: 0.5506 - val_loss: 1.1101 - val_accuracy: 0.5743\n",
            "Epoch 20/100\n",
            "225/225 [==============================] - 12s 52ms/step - loss: 1.1656 - accuracy: 0.5592 - val_loss: 1.0994 - val_accuracy: 0.5848\n",
            "Epoch 21/100\n",
            "225/225 [==============================] - 12s 52ms/step - loss: 1.1593 - accuracy: 0.5625 - val_loss: 1.0979 - val_accuracy: 0.5751\n",
            "Epoch 22/100\n",
            "225/225 [==============================] - 11s 51ms/step - loss: 1.1472 - accuracy: 0.5657 - val_loss: 1.0892 - val_accuracy: 0.5862\n",
            "Epoch 23/100\n",
            "225/225 [==============================] - 12s 51ms/step - loss: 1.1341 - accuracy: 0.5715 - val_loss: 1.0881 - val_accuracy: 0.5779\n",
            "Epoch 24/100\n",
            "225/225 [==============================] - 12s 52ms/step - loss: 1.1300 - accuracy: 0.5721 - val_loss: 1.0990 - val_accuracy: 0.5754\n",
            "Epoch 25/100\n",
            "225/225 [==============================] - 11s 51ms/step - loss: 1.1240 - accuracy: 0.5747 - val_loss: 1.0906 - val_accuracy: 0.5854\n",
            "Epoch 26/100\n",
            "225/225 [==============================] - 11s 51ms/step - loss: 1.1152 - accuracy: 0.5785 - val_loss: 1.0800 - val_accuracy: 0.5876\n",
            "Epoch 27/100\n",
            "225/225 [==============================] - 12s 52ms/step - loss: 1.1071 - accuracy: 0.5853 - val_loss: 1.0854 - val_accuracy: 0.5887\n",
            "Epoch 28/100\n",
            "225/225 [==============================] - 12s 53ms/step - loss: 1.0970 - accuracy: 0.5865 - val_loss: 1.0795 - val_accuracy: 0.5907\n",
            "Epoch 29/100\n",
            "225/225 [==============================] - 12s 52ms/step - loss: 1.0975 - accuracy: 0.5857 - val_loss: 1.0912 - val_accuracy: 0.5784\n",
            "Epoch 30/100\n",
            "225/225 [==============================] - 11s 51ms/step - loss: 1.0906 - accuracy: 0.5904 - val_loss: 1.0717 - val_accuracy: 0.5924\n",
            "Epoch 31/100\n",
            "225/225 [==============================] - 11s 51ms/step - loss: 1.0828 - accuracy: 0.5916 - val_loss: 1.0712 - val_accuracy: 0.5938\n",
            "Epoch 32/100\n",
            "225/225 [==============================] - 11s 51ms/step - loss: 1.0732 - accuracy: 0.5946 - val_loss: 1.0568 - val_accuracy: 0.5965\n",
            "Epoch 33/100\n",
            "225/225 [==============================] - 12s 53ms/step - loss: 1.0631 - accuracy: 0.5982 - val_loss: 1.0703 - val_accuracy: 0.5896\n",
            "Epoch 34/100\n",
            "225/225 [==============================] - 12s 52ms/step - loss: 1.0662 - accuracy: 0.5995 - val_loss: 1.0625 - val_accuracy: 0.5952\n",
            "Epoch 35/100\n",
            "225/225 [==============================] - 12s 52ms/step - loss: 1.0518 - accuracy: 0.6024 - val_loss: 1.0721 - val_accuracy: 0.5896\n",
            "Epoch 36/100\n",
            "225/225 [==============================] - 13s 59ms/step - loss: 1.0528 - accuracy: 0.6039 - val_loss: 1.0608 - val_accuracy: 0.6030\n",
            "Epoch 37/100\n",
            "225/225 [==============================] - 13s 57ms/step - loss: 1.0464 - accuracy: 0.6068 - val_loss: 1.0532 - val_accuracy: 0.5926\n",
            "Epoch 38/100\n",
            "225/225 [==============================] - 13s 56ms/step - loss: 1.0376 - accuracy: 0.6113 - val_loss: 1.0573 - val_accuracy: 0.5993\n",
            "Epoch 39/100\n",
            "225/225 [==============================] - 12s 52ms/step - loss: 1.0277 - accuracy: 0.6180 - val_loss: 1.0479 - val_accuracy: 0.6032\n",
            "Epoch 40/100\n",
            "225/225 [==============================] - 12s 52ms/step - loss: 1.0158 - accuracy: 0.6184 - val_loss: 1.0475 - val_accuracy: 0.6013\n",
            "Epoch 41/100\n",
            "225/225 [==============================] - 12s 55ms/step - loss: 1.0208 - accuracy: 0.6168 - val_loss: 1.0452 - val_accuracy: 0.6007\n",
            "Epoch 42/100\n",
            "225/225 [==============================] - 12s 53ms/step - loss: 1.0132 - accuracy: 0.6201 - val_loss: 1.0497 - val_accuracy: 0.6004\n",
            "Epoch 43/100\n",
            "225/225 [==============================] - 12s 53ms/step - loss: 1.0028 - accuracy: 0.6282 - val_loss: 1.0337 - val_accuracy: 0.6099\n",
            "Epoch 44/100\n",
            "225/225 [==============================] - 12s 52ms/step - loss: 0.9977 - accuracy: 0.6238 - val_loss: 1.0402 - val_accuracy: 0.6046\n",
            "Epoch 45/100\n",
            "225/225 [==============================] - 12s 54ms/step - loss: 0.9872 - accuracy: 0.6275 - val_loss: 1.0308 - val_accuracy: 0.6035\n",
            "Epoch 46/100\n",
            "225/225 [==============================] - 12s 52ms/step - loss: 0.9874 - accuracy: 0.6282 - val_loss: 1.0503 - val_accuracy: 0.6052\n",
            "Epoch 47/100\n",
            "225/225 [==============================] - 12s 52ms/step - loss: 0.9858 - accuracy: 0.6317 - val_loss: 1.0422 - val_accuracy: 0.6138\n",
            "Epoch 48/100\n",
            "225/225 [==============================] - 12s 53ms/step - loss: 0.9803 - accuracy: 0.6320 - val_loss: 1.0429 - val_accuracy: 0.6035\n",
            "Epoch 49/100\n",
            "225/225 [==============================] - 11s 51ms/step - loss: 0.9753 - accuracy: 0.6367 - val_loss: 1.0379 - val_accuracy: 0.6116\n",
            "Epoch 50/100\n",
            "225/225 [==============================] - 11s 51ms/step - loss: 0.9622 - accuracy: 0.6415 - val_loss: 1.0380 - val_accuracy: 0.6130\n",
            "Epoch 51/100\n",
            "225/225 [==============================] - 11s 51ms/step - loss: 0.9646 - accuracy: 0.6404 - val_loss: 1.0311 - val_accuracy: 0.6099\n",
            "Epoch 52/100\n",
            "225/225 [==============================] - 12s 51ms/step - loss: 0.9642 - accuracy: 0.6437 - val_loss: 1.0438 - val_accuracy: 0.6016\n",
            "Epoch 53/100\n",
            "225/225 [==============================] - 12s 54ms/step - loss: 0.9572 - accuracy: 0.6418 - val_loss: 1.0405 - val_accuracy: 0.6030\n",
            "Epoch 54/100\n",
            "225/225 [==============================] - 12s 52ms/step - loss: 0.9483 - accuracy: 0.6473 - val_loss: 1.0337 - val_accuracy: 0.6149\n",
            "Epoch 55/100\n",
            "225/225 [==============================] - 12s 52ms/step - loss: 0.9432 - accuracy: 0.6460 - val_loss: 1.0296 - val_accuracy: 0.6155\n",
            "Epoch 56/100\n",
            "225/225 [==============================] - 11s 51ms/step - loss: 0.9421 - accuracy: 0.6478 - val_loss: 1.0344 - val_accuracy: 0.6099\n",
            "Epoch 57/100\n",
            "225/225 [==============================] - 11s 51ms/step - loss: 0.9347 - accuracy: 0.6496 - val_loss: 1.0288 - val_accuracy: 0.6141\n",
            "Epoch 58/100\n",
            "225/225 [==============================] - 12s 53ms/step - loss: 0.9235 - accuracy: 0.6579 - val_loss: 1.0433 - val_accuracy: 0.6113\n",
            "Epoch 59/100\n",
            "225/225 [==============================] - 12s 51ms/step - loss: 0.9248 - accuracy: 0.6560 - val_loss: 1.0316 - val_accuracy: 0.6149\n",
            "Epoch 60/100\n",
            "225/225 [==============================] - 11s 51ms/step - loss: 0.9118 - accuracy: 0.6617 - val_loss: 1.0264 - val_accuracy: 0.6124\n",
            "Epoch 61/100\n",
            "225/225 [==============================] - 11s 51ms/step - loss: 0.9195 - accuracy: 0.6571 - val_loss: 1.0302 - val_accuracy: 0.6085\n",
            "Epoch 62/100\n",
            "225/225 [==============================] - 11s 51ms/step - loss: 0.9077 - accuracy: 0.6592 - val_loss: 1.0301 - val_accuracy: 0.6094\n",
            "Epoch 63/100\n",
            "225/225 [==============================] - 12s 52ms/step - loss: 0.9002 - accuracy: 0.6639 - val_loss: 1.0401 - val_accuracy: 0.6091\n",
            "Epoch 64/100\n",
            "225/225 [==============================] - 12s 53ms/step - loss: 0.9022 - accuracy: 0.6631 - val_loss: 1.0310 - val_accuracy: 0.6113\n",
            "Epoch 65/100\n",
            "225/225 [==============================] - 11s 51ms/step - loss: 0.8983 - accuracy: 0.6678 - val_loss: 1.0245 - val_accuracy: 0.6088\n",
            "Epoch 66/100\n",
            "225/225 [==============================] - 12s 52ms/step - loss: 0.8925 - accuracy: 0.6694 - val_loss: 1.0271 - val_accuracy: 0.6188\n",
            "Epoch 67/100\n",
            "225/225 [==============================] - 11s 51ms/step - loss: 0.8857 - accuracy: 0.6708 - val_loss: 1.0377 - val_accuracy: 0.6163\n",
            "Epoch 68/100\n",
            "225/225 [==============================] - 12s 52ms/step - loss: 0.8855 - accuracy: 0.6732 - val_loss: 1.0471 - val_accuracy: 0.6177\n",
            "Epoch 69/100\n",
            "225/225 [==============================] - 12s 53ms/step - loss: 0.8871 - accuracy: 0.6723 - val_loss: 1.0306 - val_accuracy: 0.6160\n",
            "Epoch 70/100\n",
            "225/225 [==============================] - 11s 51ms/step - loss: 0.8707 - accuracy: 0.6762 - val_loss: 1.0245 - val_accuracy: 0.6169\n",
            "Epoch 71/100\n",
            "225/225 [==============================] - 11s 51ms/step - loss: 0.8731 - accuracy: 0.6809 - val_loss: 1.0275 - val_accuracy: 0.6160\n",
            "Epoch 72/100\n",
            "225/225 [==============================] - 12s 52ms/step - loss: 0.8726 - accuracy: 0.6781 - val_loss: 1.0234 - val_accuracy: 0.6155\n",
            "Epoch 73/100\n",
            "225/225 [==============================] - 12s 51ms/step - loss: 0.8708 - accuracy: 0.6770 - val_loss: 1.0358 - val_accuracy: 0.6177\n",
            "Epoch 74/100\n",
            "225/225 [==============================] - 12s 53ms/step - loss: 0.8662 - accuracy: 0.6804 - val_loss: 1.0290 - val_accuracy: 0.6108\n",
            "Epoch 75/100\n",
            "225/225 [==============================] - 12s 52ms/step - loss: 0.8583 - accuracy: 0.6827 - val_loss: 1.0250 - val_accuracy: 0.6169\n",
            "Epoch 76/100\n",
            "225/225 [==============================] - 11s 51ms/step - loss: 0.8497 - accuracy: 0.6836 - val_loss: 1.0308 - val_accuracy: 0.6225\n",
            "Epoch 77/100\n",
            "225/225 [==============================] - 12s 52ms/step - loss: 0.8499 - accuracy: 0.6878 - val_loss: 1.0315 - val_accuracy: 0.6225\n",
            "Epoch 78/100\n",
            "225/225 [==============================] - 12s 52ms/step - loss: 0.8441 - accuracy: 0.6867 - val_loss: 1.0308 - val_accuracy: 0.6222\n",
            "Epoch 79/100\n",
            "225/225 [==============================] - 12s 52ms/step - loss: 0.8367 - accuracy: 0.6924 - val_loss: 1.0274 - val_accuracy: 0.6247\n",
            "Epoch 80/100\n",
            "225/225 [==============================] - 12s 52ms/step - loss: 0.8316 - accuracy: 0.6968 - val_loss: 1.0325 - val_accuracy: 0.6155\n",
            "Epoch 81/100\n",
            "225/225 [==============================] - 11s 51ms/step - loss: 0.8242 - accuracy: 0.6979 - val_loss: 1.0351 - val_accuracy: 0.6236\n",
            "Epoch 82/100\n",
            "225/225 [==============================] - 11s 51ms/step - loss: 0.8276 - accuracy: 0.6977 - val_loss: 1.0307 - val_accuracy: 0.6208\n",
            "Epoch 83/100\n",
            "225/225 [==============================] - 11s 51ms/step - loss: 0.8213 - accuracy: 0.6969 - val_loss: 1.0300 - val_accuracy: 0.6216\n",
            "Epoch 84/100\n",
            "225/225 [==============================] - 12s 53ms/step - loss: 0.8297 - accuracy: 0.7000 - val_loss: 1.0046 - val_accuracy: 0.6269\n",
            "Epoch 85/100\n",
            "225/225 [==============================] - 12s 52ms/step - loss: 0.8149 - accuracy: 0.7025 - val_loss: 1.0219 - val_accuracy: 0.6250\n",
            "Epoch 86/100\n",
            "225/225 [==============================] - 12s 52ms/step - loss: 0.8097 - accuracy: 0.7018 - val_loss: 1.0390 - val_accuracy: 0.6191\n",
            "Epoch 87/100\n",
            "225/225 [==============================] - 12s 52ms/step - loss: 0.8137 - accuracy: 0.7029 - val_loss: 1.0230 - val_accuracy: 0.6208\n",
            "Epoch 88/100\n",
            "225/225 [==============================] - 12s 52ms/step - loss: 0.7970 - accuracy: 0.7093 - val_loss: 1.0216 - val_accuracy: 0.6294\n",
            "Epoch 89/100\n",
            "225/225 [==============================] - 12s 52ms/step - loss: 0.7958 - accuracy: 0.7085 - val_loss: 1.0197 - val_accuracy: 0.6236\n",
            "Epoch 90/100\n",
            "225/225 [==============================] - 11s 51ms/step - loss: 0.8013 - accuracy: 0.7099 - val_loss: 1.0242 - val_accuracy: 0.6266\n",
            "Epoch 91/100\n",
            "225/225 [==============================] - 12s 52ms/step - loss: 0.7911 - accuracy: 0.7118 - val_loss: 1.0185 - val_accuracy: 0.6275\n",
            "Epoch 92/100\n",
            "225/225 [==============================] - 12s 52ms/step - loss: 0.7948 - accuracy: 0.7096 - val_loss: 1.0276 - val_accuracy: 0.6264\n",
            "Epoch 93/100\n",
            "225/225 [==============================] - 12s 52ms/step - loss: 0.7812 - accuracy: 0.7156 - val_loss: 1.0171 - val_accuracy: 0.6213\n",
            "Epoch 94/100\n",
            "225/225 [==============================] - 12s 53ms/step - loss: 0.7852 - accuracy: 0.7143 - val_loss: 1.0395 - val_accuracy: 0.6244\n",
            "Epoch 95/100\n",
            "225/225 [==============================] - 12s 52ms/step - loss: 0.7812 - accuracy: 0.7163 - val_loss: 1.0253 - val_accuracy: 0.6283\n",
            "Epoch 96/100\n",
            "225/225 [==============================] - 12s 52ms/step - loss: 0.7743 - accuracy: 0.7170 - val_loss: 1.0250 - val_accuracy: 0.6222\n",
            "Epoch 97/100\n",
            "225/225 [==============================] - 11s 51ms/step - loss: 0.7705 - accuracy: 0.7191 - val_loss: 1.0191 - val_accuracy: 0.6322\n",
            "Epoch 98/100\n",
            "225/225 [==============================] - 12s 51ms/step - loss: 0.7634 - accuracy: 0.7199 - val_loss: 1.0312 - val_accuracy: 0.6252\n",
            "Epoch 99/100\n",
            "225/225 [==============================] - 12s 52ms/step - loss: 0.7674 - accuracy: 0.7212 - val_loss: 1.0316 - val_accuracy: 0.6317\n",
            "Epoch 100/100\n",
            "225/225 [==============================] - 12s 52ms/step - loss: 0.7639 - accuracy: 0.7244 - val_loss: 1.0217 - val_accuracy: 0.6244\n"
          ]
        }
      ]
    },
    {
      "cell_type": "code",
      "source": [
        "model_json = model.to_json()\n",
        "model.save_weights('model_weights.h5')\n",
        "with open(\"model.json\", \"w\") as json_file:\n",
        "    json_file.write(model_json)"
      ],
      "metadata": {
        "id": "bFBLOh5Zszpq"
      },
      "execution_count": 138,
      "outputs": []
    },
    {
      "cell_type": "code",
      "source": [
        "acc = history.history['accuracy']\n",
        "val_acc = history.history['val_accuracy']\n",
        "epochs = range(len(acc))\n",
        "\n",
        "plt.plot(epochs, acc, 'b', label='Training Accuracy')\n",
        "plt.plot(epochs, val_acc, 'r', label='Validation Accuracy')\n",
        "plt.title('Accuracy Graph')\n",
        "plt.legend()\n",
        "plt.figure()\n",
        "\n",
        "loss = history.history['loss']\n",
        "val_loss = history.history['val_loss']\n",
        "epochs = range(len(acc))\n",
        "\n",
        "plt.plot(epochs, loss, 'b', label='Training Loss')\n",
        "plt.plot(epochs, val_loss, 'r', label='Validation Loss')\n",
        "plt.title('Loss Graph')\n",
        "plt.legend()\n",
        "\n",
        "plt.show()"
      ],
      "metadata": {
        "colab": {
          "base_uri": "https://localhost:8080/",
          "height": 545
        },
        "id": "kWlncL7M6ylj",
        "outputId": "b3963b9e-0b56-4fb7-b567-d9d81fd01b52"
      },
      "execution_count": 123,
      "outputs": [
        {
          "output_type": "display_data",
          "data": {
            "text/plain": [
              "<Figure size 432x288 with 1 Axes>"
            ],
            "image/png": "[encoded data removed]"
          },
          "metadata": {
            "needs_background": "light"
          }
        },
        {
          "output_type": "display_data",
          "data": {
            "text/plain": [
              "<Figure size 432x288 with 1 Axes>"
            ],
            "image/png": "[encoded data removed]"
          },
          "metadata": {
            "needs_background": "light"
          }
        }
      ]
    },
    {
      "cell_type": "code",
      "source": [
        "image_index = random.randint(0, len(test))\n",
        "print(\"Original Output:\", test['label'][image_index])\n",
        "pred = model.predict(x_test[image_index].reshape(1, 48, 48, 1))\n",
        "prediction_label = le.inverse_transform([pred.argmax()])[0]\n",
        "print(\"Predicted Output:\", prediction_label)\n",
        "plt.imshow(x_test[image_index].reshape(48, 48), cmap='gray');"
      ],
      "metadata": {
        "colab": {
          "base_uri": "https://localhost:8080/",
          "height": 319
        },
        "id": "ieeaLR9ZuvjH",
        "outputId": "28a11989-8011-456d-e27b-9525654f816d"
      },
      "execution_count": 183,
      "outputs": [
        {
          "output_type": "stream",
          "name": "stdout",
          "text": [
            "Original Output: neutral\n",
            "1/1 [==============================] - 0s 24ms/step\n",
            "Predicted Output: neutral\n"
          ]
        },
        {
          "output_type": "display_data",
          "data": {
            "text/plain": [
              "<Figure size 432x288 with 1 Axes>"
            ],
            "image/png": "[encoded data removed]"
          },
          "metadata": {
            "needs_background": "light"
          }
        }
      ]
    },
    {
      "cell_type": "code",
      "source": [
        "rand_idxs = np.random.choice(len(test),3)\n",
        "print(rand_idxs)\n",
        "plt.figure(figsize=(20,20))\n",
        "for i, img_idx in enumerate(rand_idxs):\n",
        "    true_label = test['label'][img_idx]\n",
        "    pred = model.predict(x_test[img_idx].reshape(1, 48, 48, 1))\n",
        "    prediction_label = le.inverse_transform([pred.argmax()])[0]\n",
        "    plt.subplot(1,3, i+1)\n",
        "    plt.title(f'Predict: {prediction_label} \\n True:  {true_label}',fontsize=30)\n",
        "    plt.axis('off')\n",
        "    plt.imshow(x_test[img_idx].reshape(48, 48), cmap='gray');"
      ],
      "metadata": {
        "colab": {
          "base_uri": "https://localhost:8080/",
          "height": 491
        },
        "id": "wpdK4hnqvaO0",
        "outputId": "8be21c22-b6ea-41ff-d11e-2a5768567480"
      },
      "execution_count": 234,
      "outputs": [
        {
          "output_type": "stream",
          "name": "stdout",
          "text": [
            "[2514  756 3490]\n",
            "1/1 [==============================] - 0s 17ms/step\n",
            "1/1 [==============================] - 0s 16ms/step\n",
            "1/1 [==============================] - 0s 16ms/step\n"
          ]
        },
        {
          "output_type": "display_data",
          "data": {
            "text/plain": [
              "<Figure size 1440x1440 with 3 Axes>"
            ],
            "image/png": "[encoded data removed]"
          },
          "metadata": {
            "needs_background": "light"
          }
        }
      ]
    },
    {
      "cell_type": "code",
      "source": [
        "# 日本語で\n",
        "!pip install japanize-matplotlib"
      ],
      "metadata": {
        "id": "wbTirJ2Qzu7g"
      },
      "execution_count": null,
      "outputs": []
    },
    {
      "cell_type": "code",
      "source": [
        "import japanize_matplotlib\n",
        "uk_labels = ['angry','disgust','fear','happy','neutral','sad','surprise']\n",
        "jap_labels = ['怒り','嫌悪','恐怖','幸福','中立','悲しみ','驚き']"
      ],
      "metadata": {
        "id": "2l7BDm7PyOwp"
      },
      "execution_count": 210,
      "outputs": []
    },
    {
      "cell_type": "code",
      "source": [
        "def maping(uk_labels, jap_labels,label):\n",
        "  idx = uk_labels.index(label)\n",
        "  return jap_labels[idx]"
      ],
      "metadata": {
        "id": "caymZLTVyjES"
      },
      "execution_count": 196,
      "outputs": []
    },
    {
      "cell_type": "code",
      "source": [
        "rand_idxs = np.random.choice(len(test),3)\n",
        "print(rand_idxs)\n",
        "plt.figure(figsize=(20,20))\n",
        "for i, img_idx in enumerate(rand_idxs):\n",
        "    true_label = test['label'][img_idx]\n",
        "    jap_label = maping(uk_labels, jap_labels, true_label)\n",
        "    pred = model.predict(x_test[img_idx].reshape(1, 48, 48, 1))\n",
        "    jap_predict = jap_labels[[pred.argmax()][0]]\n",
        "    plt.subplot(1,3, i+1)\n",
        "    plt.title(f'予測: {jap_predict} \\n オリジナ:  {jap_label}',fontsize=30)\n",
        "    plt.axis('off')\n",
        "    plt.imshow(x_test[img_idx].reshape(48, 48), cmap='gray');"
      ],
      "metadata": {
        "colab": {
          "base_uri": "https://localhost:8080/",
          "height": 491
        },
        "id": "VRIt6stuyEVs",
        "outputId": "3bb9756e-088b-4de5-a40d-e74e40d07f00"
      },
      "execution_count": 233,
      "outputs": [
        {
          "output_type": "stream",
          "name": "stdout",
          "text": [
            "[2514  756 3490]\n",
            "1/1 [==============================] - 0s 29ms/step\n",
            "1/1 [==============================] - 0s 26ms/step\n",
            "1/1 [==============================] - 0s 38ms/step\n"
          ]
        },
        {
          "output_type": "display_data",
          "data": {
            "text/plain": [
              "<Figure size 1440x1440 with 3 Axes>"
            ],
            "image/png": "[encoded data removed]"
          },
          "metadata": {
            "needs_background": "light"
          }
        }
      ]
    }
  ]
}