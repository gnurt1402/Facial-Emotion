{
  "nbformat": 4,
  "nbformat_minor": 0,
  "metadata": {
    "colab": {
      "provenance": [],
      "authorship_tag": "ABX9TyNGuZGDHDTtzP77mRjoryYu",
      "include_colab_link": true
    },
    "kernelspec": {
      "name": "python3",
      "display_name": "Python 3"
    },
    "language_info": {
      "name": "python"
    },
    "accelerator": "GPU",
    "gpuClass": "standard",
    "widgets": {
      "application/vnd.jupyter.widget-state+json": {
        "11dacec9d40449b8910b77bfdd86d987": {
          "model_module": "@jupyter-widgets/controls",
          "model_name": "HBoxModel",
          "model_module_version": "1.5.0",
          "state": {
            "_dom_classes": [],
            "_model_module": "@jupyter-widgets/controls",
            "_model_module_version": "1.5.0",
            "_model_name": "HBoxModel",
            "_view_count": null,
            "_view_module": "@jupyter-widgets/controls",
            "_view_module_version": "1.5.0",
            "_view_name": "HBoxView",
            "box_style": "",
            "children": [
              "IPY_MODEL_7f62bd6e0e154d57a122589417bdb8db",
              "IPY_MODEL_6ba5e6748a4143f6867ec62c2f5690a5",
              "IPY_MODEL_02efc94ba63d4288ab5570b80d54d9df"
            ],
            "layout": "IPY_MODEL_eaa453f3cb054da293f2e1e9a426af83"
          }
        },
        "7f62bd6e0e154d57a122589417bdb8db": {
          "model_module": "@jupyter-widgets/controls",
          "model_name": "HTMLModel",
          "model_module_version": "1.5.0",
          "state": {
            "_dom_classes": [],
            "_model_module": "@jupyter-widgets/controls",
            "_model_module_version": "1.5.0",
            "_model_name": "HTMLModel",
            "_view_count": null,
            "_view_module": "@jupyter-widgets/controls",
            "_view_module_version": "1.5.0",
            "_view_name": "HTMLView",
            "description": "",
            "description_tooltip": null,
            "layout": "IPY_MODEL_6c95f2e60ea54127bd10d4e4f56a4d4e",
            "placeholder": "​",
            "style": "IPY_MODEL_43336c5925e2448b95bf7fac4abfa9b1",
            "value": "100%"
          }
        },
        "6ba5e6748a4143f6867ec62c2f5690a5": {
          "model_module": "@jupyter-widgets/controls",
          "model_name": "FloatProgressModel",
          "model_module_version": "1.5.0",
          "state": {
            "_dom_classes": [],
            "_model_module": "@jupyter-widgets/controls",
            "_model_module_version": "1.5.0",
            "_model_name": "FloatProgressModel",
            "_view_count": null,
            "_view_module": "@jupyter-widgets/controls",
            "_view_module_version": "1.5.0",
            "_view_name": "ProgressView",
            "bar_style": "success",
            "description": "",
            "description_tooltip": null,
            "layout": "IPY_MODEL_067803e1cf494bc8b806bbc54be796e0",
            "max": 28709,
            "min": 0,
            "orientation": "horizontal",
            "style": "IPY_MODEL_202f8f193fc5453b866c3a075a169bce",
            "value": 28709
          }
        },
        "02efc94ba63d4288ab5570b80d54d9df": {
          "model_module": "@jupyter-widgets/controls",
          "model_name": "HTMLModel",
          "model_module_version": "1.5.0",
          "state": {
            "_dom_classes": [],
            "_model_module": "@jupyter-widgets/controls",
            "_model_module_version": "1.5.0",
            "_model_name": "HTMLModel",
            "_view_count": null,
            "_view_module": "@jupyter-widgets/controls",
            "_view_module_version": "1.5.0",
            "_view_name": "HTMLView",
            "description": "",
            "description_tooltip": null,
            "layout": "IPY_MODEL_9a6399bb76c34430a40262224b653163",
            "placeholder": "​",
            "style": "IPY_MODEL_b804dbb998564e78b7ffc1af3c207d3c",
            "value": " 28709/28709 [00:41&lt;00:00, 493.07it/s]"
          }
        },
        "eaa453f3cb054da293f2e1e9a426af83": {
          "model_module": "@jupyter-widgets/base",
          "model_name": "LayoutModel",
          "model_module_version": "1.2.0",
          "state": {
            "_model_module": "@jupyter-widgets/base",
            "_model_module_version": "1.2.0",
            "_model_name": "LayoutModel",
            "_view_count": null,
            "_view_module": "@jupyter-widgets/base",
            "_view_module_version": "1.2.0",
            "_view_name": "LayoutView",
            "align_content": null,
            "align_items": null,
            "align_self": null,
            "border": null,
            "bottom": null,
            "display": null,
            "flex": null,
            "flex_flow": null,
            "grid_area": null,
            "grid_auto_columns": null,
            "grid_auto_flow": null,
            "grid_auto_rows": null,
            "grid_column": null,
            "grid_gap": null,
            "grid_row": null,
            "grid_template_areas": null,
            "grid_template_columns": null,
            "grid_template_rows": null,
            "height": null,
            "justify_content": null,
            "justify_items": null,
            "left": null,
            "margin": null,
            "max_height": null,
            "max_width": null,
            "min_height": null,
            "min_width": null,
            "object_fit": null,
            "object_position": null,
            "order": null,
            "overflow": null,
            "overflow_x": null,
            "overflow_y": null,
            "padding": null,
            "right": null,
            "top": null,
            "visibility": null,
            "width": null
          }
        },
        "6c95f2e60ea54127bd10d4e4f56a4d4e": {
          "model_module": "@jupyter-widgets/base",
          "model_name": "LayoutModel",
          "model_module_version": "1.2.0",
          "state": {
            "_model_module": "@jupyter-widgets/base",
            "_model_module_version": "1.2.0",
            "_model_name": "LayoutModel",
            "_view_count": null,
            "_view_module": "@jupyter-widgets/base",
            "_view_module_version": "1.2.0",
            "_view_name": "LayoutView",
            "align_content": null,
            "align_items": null,
            "align_self": null,
            "border": null,
            "bottom": null,
            "display": null,
            "flex": null,
            "flex_flow": null,
            "grid_area": null,
            "grid_auto_columns": null,
            "grid_auto_flow": null,
            "grid_auto_rows": null,
            "grid_column": null,
            "grid_gap": null,
            "grid_row": null,
            "grid_template_areas": null,
            "grid_template_columns": null,
            "grid_template_rows": null,
            "height": null,
            "justify_content": null,
            "justify_items": null,
            "left": null,
            "margin": null,
            "max_height": null,
            "max_width": null,
            "min_height": null,
            "min_width": null,
            "object_fit": null,
            "object_position": null,
            "order": null,
            "overflow": null,
            "overflow_x": null,
            "overflow_y": null,
            "padding": null,
            "right": null,
            "top": null,
            "visibility": null,
            "width": null
          }
        },
        "43336c5925e2448b95bf7fac4abfa9b1": {
          "model_module": "@jupyter-widgets/controls",
          "model_name": "DescriptionStyleModel",
          "model_module_version": "1.5.0",
          "state": {
            "_model_module": "@jupyter-widgets/controls",
            "_model_module_version": "1.5.0",
            "_model_name": "DescriptionStyleModel",
            "_view_count": null,
            "_view_module": "@jupyter-widgets/base",
            "_view_module_version": "1.2.0",
            "_view_name": "StyleView",
            "description_width": ""
          }
        },
        "067803e1cf494bc8b806bbc54be796e0": {
          "model_module": "@jupyter-widgets/base",
          "model_name": "LayoutModel",
          "model_module_version": "1.2.0",
          "state": {
            "_model_module": "@jupyter-widgets/base",
            "_model_module_version": "1.2.0",
            "_model_name": "LayoutModel",
            "_view_count": null,
            "_view_module": "@jupyter-widgets/base",
            "_view_module_version": "1.2.0",
            "_view_name": "LayoutView",
            "align_content": null,
            "align_items": null,
            "align_self": null,
            "border": null,
            "bottom": null,
            "display": null,
            "flex": null,
            "flex_flow": null,
            "grid_area": null,
            "grid_auto_columns": null,
            "grid_auto_flow": null,
            "grid_auto_rows": null,
            "grid_column": null,
            "grid_gap": null,
            "grid_row": null,
            "grid_template_areas": null,
            "grid_template_columns": null,
            "grid_template_rows": null,
            "height": null,
            "justify_content": null,
            "justify_items": null,
            "left": null,
            "margin": null,
            "max_height": null,
            "max_width": null,
            "min_height": null,
            "min_width": null,
            "object_fit": null,
            "object_position": null,
            "order": null,
            "overflow": null,
            "overflow_x": null,
            "overflow_y": null,
            "padding": null,
            "right": null,
            "top": null,
            "visibility": null,
            "width": null
          }
        },
        "202f8f193fc5453b866c3a075a169bce": {
          "model_module": "@jupyter-widgets/controls",
          "model_name": "ProgressStyleModel",
          "model_module_version": "1.5.0",
          "state": {
            "_model_module": "@jupyter-widgets/controls",
            "_model_module_version": "1.5.0",
            "_model_name": "ProgressStyleModel",
            "_view_count": null,
            "_view_module": "@jupyter-widgets/base",
            "_view_module_version": "1.2.0",
            "_view_name": "StyleView",
            "bar_color": null,
            "description_width": ""
          }
        },
        "9a6399bb76c34430a40262224b653163": {
          "model_module": "@jupyter-widgets/base",
          "model_name": "LayoutModel",
          "model_module_version": "1.2.0",
          "state": {
            "_model_module": "@jupyter-widgets/base",
            "_model_module_version": "1.2.0",
            "_model_name": "LayoutModel",
            "_view_count": null,
            "_view_module": "@jupyter-widgets/base",
            "_view_module_version": "1.2.0",
            "_view_name": "LayoutView",
            "align_content": null,
            "align_items": null,
            "align_self": null,
            "border": null,
            "bottom": null,
            "display": null,
            "flex": null,
            "flex_flow": null,
            "grid_area": null,
            "grid_auto_columns": null,
            "grid_auto_flow": null,
            "grid_auto_rows": null,
            "grid_column": null,
            "grid_gap": null,
            "grid_row": null,
            "grid_template_areas": null,
            "grid_template_columns": null,
            "grid_template_rows": null,
            "height": null,
            "justify_content": null,
            "justify_items": null,
            "left": null,
            "margin": null,
            "max_height": null,
            "max_width": null,
            "min_height": null,
            "min_width": null,
            "object_fit": null,
            "object_position": null,
            "order": null,
            "overflow": null,
            "overflow_x": null,
            "overflow_y": null,
            "padding": null,
            "right": null,
            "top": null,
            "visibility": null,
            "width": null
          }
        },
        "b804dbb998564e78b7ffc1af3c207d3c": {
          "model_module": "@jupyter-widgets/controls",
          "model_name": "DescriptionStyleModel",
          "model_module_version": "1.5.0",
          "state": {
            "_model_module": "@jupyter-widgets/controls",
            "_model_module_version": "1.5.0",
            "_model_name": "DescriptionStyleModel",
            "_view_count": null,
            "_view_module": "@jupyter-widgets/base",
            "_view_module_version": "1.2.0",
            "_view_name": "StyleView",
            "description_width": ""
          }
        },
        "d83c5ade5fdc461683eee790475da6e6": {
          "model_module": "@jupyter-widgets/controls",
          "model_name": "HBoxModel",
          "model_module_version": "1.5.0",
          "state": {
            "_dom_classes": [],
            "_model_module": "@jupyter-widgets/controls",
            "_model_module_version": "1.5.0",
            "_model_name": "HBoxModel",
            "_view_count": null,
            "_view_module": "@jupyter-widgets/controls",
            "_view_module_version": "1.5.0",
            "_view_name": "HBoxView",
            "box_style": "",
            "children": [
              "IPY_MODEL_dff747c148504379adf3042fae33e13e",
              "IPY_MODEL_74fdf59c9ddd4bab99d9f01a6fab0ab7",
              "IPY_MODEL_28d3401ad0e84051bf5dff3e895a734e"
            ],
            "layout": "IPY_MODEL_44b8283b31984c67ae95f751e0dcd43b"
          }
        },
        "dff747c148504379adf3042fae33e13e": {
          "model_module": "@jupyter-widgets/controls",
          "model_name": "HTMLModel",
          "model_module_version": "1.5.0",
          "state": {
            "_dom_classes": [],
            "_model_module": "@jupyter-widgets/controls",
            "_model_module_version": "1.5.0",
            "_model_name": "HTMLModel",
            "_view_count": null,
            "_view_module": "@jupyter-widgets/controls",
            "_view_module_version": "1.5.0",
            "_view_name": "HTMLView",
            "description": "",
            "description_tooltip": null,
            "layout": "IPY_MODEL_98cfad8d33a24070be80a30536bf46ce",
            "placeholder": "​",
            "style": "IPY_MODEL_d23140cffb2c48e39af88284652c4da5",
            "value": "100%"
          }
        },
        "74fdf59c9ddd4bab99d9f01a6fab0ab7": {
          "model_module": "@jupyter-widgets/controls",
          "model_name": "FloatProgressModel",
          "model_module_version": "1.5.0",
          "state": {
            "_dom_classes": [],
            "_model_module": "@jupyter-widgets/controls",
            "_model_module_version": "1.5.0",
            "_model_name": "FloatProgressModel",
            "_view_count": null,
            "_view_module": "@jupyter-widgets/controls",
            "_view_module_version": "1.5.0",
            "_view_name": "ProgressView",
            "bar_style": "success",
            "description": "",
            "description_tooltip": null,
            "layout": "IPY_MODEL_397aa3a780384a01b6043a90d2af3863",
            "max": 7178,
            "min": 0,
            "orientation": "horizontal",
            "style": "IPY_MODEL_7f3f40b989ce4f4f835ac06b35cf9950",
            "value": 7178
          }
        },
        "28d3401ad0e84051bf5dff3e895a734e": {
          "model_module": "@jupyter-widgets/controls",
          "model_name": "HTMLModel",
          "model_module_version": "1.5.0",
          "state": {
            "_dom_classes": [],
            "_model_module": "@jupyter-widgets/controls",
            "_model_module_version": "1.5.0",
            "_model_name": "HTMLModel",
            "_view_count": null,
            "_view_module": "@jupyter-widgets/controls",
            "_view_module_version": "1.5.0",
            "_view_name": "HTMLView",
            "description": "",
            "description_tooltip": null,
            "layout": "IPY_MODEL_59fea77ba24a481299b0b53b4a79b761",
            "placeholder": "​",
            "style": "IPY_MODEL_bd4f09aa84f14b80ae0fc21f25a62cf9",
            "value": " 7178/7178 [00:08&lt;00:00, 826.51it/s]"
          }
        },
        "44b8283b31984c67ae95f751e0dcd43b": {
          "model_module": "@jupyter-widgets/base",
          "model_name": "LayoutModel",
          "model_module_version": "1.2.0",
          "state": {
            "_model_module": "@jupyter-widgets/base",
            "_model_module_version": "1.2.0",
            "_model_name": "LayoutModel",
            "_view_count": null,
            "_view_module": "@jupyter-widgets/base",
            "_view_module_version": "1.2.0",
            "_view_name": "LayoutView",
            "align_content": null,
            "align_items": null,
            "align_self": null,
            "border": null,
            "bottom": null,
            "display": null,
            "flex": null,
            "flex_flow": null,
            "grid_area": null,
            "grid_auto_columns": null,
            "grid_auto_flow": null,
            "grid_auto_rows": null,
            "grid_column": null,
            "grid_gap": null,
            "grid_row": null,
            "grid_template_areas": null,
            "grid_template_columns": null,
            "grid_template_rows": null,
            "height": null,
            "justify_content": null,
            "justify_items": null,
            "left": null,
            "margin": null,
            "max_height": null,
            "max_width": null,
            "min_height": null,
            "min_width": null,
            "object_fit": null,
            "object_position": null,
            "order": null,
            "overflow": null,
            "overflow_x": null,
            "overflow_y": null,
            "padding": null,
            "right": null,
            "top": null,
            "visibility": null,
            "width": null
          }
        },
        "98cfad8d33a24070be80a30536bf46ce": {
          "model_module": "@jupyter-widgets/base",
          "model_name": "LayoutModel",
          "model_module_version": "1.2.0",
          "state": {
            "_model_module": "@jupyter-widgets/base",
            "_model_module_version": "1.2.0",
            "_model_name": "LayoutModel",
            "_view_count": null,
            "_view_module": "@jupyter-widgets/base",
            "_view_module_version": "1.2.0",
            "_view_name": "LayoutView",
            "align_content": null,
            "align_items": null,
            "align_self": null,
            "border": null,
            "bottom": null,
            "display": null,
            "flex": null,
            "flex_flow": null,
            "grid_area": null,
            "grid_auto_columns": null,
            "grid_auto_flow": null,
            "grid_auto_rows": null,
            "grid_column": null,
            "grid_gap": null,
            "grid_row": null,
            "grid_template_areas": null,
            "grid_template_columns": null,
            "grid_template_rows": null,
            "height": null,
            "justify_content": null,
            "justify_items": null,
            "left": null,
            "margin": null,
            "max_height": null,
            "max_width": null,
            "min_height": null,
            "min_width": null,
            "object_fit": null,
            "object_position": null,
            "order": null,
            "overflow": null,
            "overflow_x": null,
            "overflow_y": null,
            "padding": null,
            "right": null,
            "top": null,
            "visibility": null,
            "width": null
          }
        },
        "d23140cffb2c48e39af88284652c4da5": {
          "model_module": "@jupyter-widgets/controls",
          "model_name": "DescriptionStyleModel",
          "model_module_version": "1.5.0",
          "state": {
            "_model_module": "@jupyter-widgets/controls",
            "_model_module_version": "1.5.0",
            "_model_name": "DescriptionStyleModel",
            "_view_count": null,
            "_view_module": "@jupyter-widgets/base",
            "_view_module_version": "1.2.0",
            "_view_name": "StyleView",
            "description_width": ""
          }
        },
        "397aa3a780384a01b6043a90d2af3863": {
          "model_module": "@jupyter-widgets/base",
          "model_name": "LayoutModel",
          "model_module_version": "1.2.0",
          "state": {
            "_model_module": "@jupyter-widgets/base",
            "_model_module_version": "1.2.0",
            "_model_name": "LayoutModel",
            "_view_count": null,
            "_view_module": "@jupyter-widgets/base",
            "_view_module_version": "1.2.0",
            "_view_name": "LayoutView",
            "align_content": null,
            "align_items": null,
            "align_self": null,
            "border": null,
            "bottom": null,
            "display": null,
            "flex": null,
            "flex_flow": null,
            "grid_area": null,
            "grid_auto_columns": null,
            "grid_auto_flow": null,
            "grid_auto_rows": null,
            "grid_column": null,
            "grid_gap": null,
            "grid_row": null,
            "grid_template_areas": null,
            "grid_template_columns": null,
            "grid_template_rows": null,
            "height": null,
            "justify_content": null,
            "justify_items": null,
            "left": null,
            "margin": null,
            "max_height": null,
            "max_width": null,
            "min_height": null,
            "min_width": null,
            "object_fit": null,
            "object_position": null,
            "order": null,
            "overflow": null,
            "overflow_x": null,
            "overflow_y": null,
            "padding": null,
            "right": null,
            "top": null,
            "visibility": null,
            "width": null
          }
        },
        "7f3f40b989ce4f4f835ac06b35cf9950": {
          "model_module": "@jupyter-widgets/controls",
          "model_name": "ProgressStyleModel",
          "model_module_version": "1.5.0",
          "state": {
            "_model_module": "@jupyter-widgets/controls",
            "_model_module_version": "1.5.0",
            "_model_name": "ProgressStyleModel",
            "_view_count": null,
            "_view_module": "@jupyter-widgets/base",
            "_view_module_version": "1.2.0",
            "_view_name": "StyleView",
            "bar_color": null,
            "description_width": ""
          }
        },
        "59fea77ba24a481299b0b53b4a79b761": {
          "model_module": "@jupyter-widgets/base",
          "model_name": "LayoutModel",
          "model_module_version": "1.2.0",
          "state": {
            "_model_module": "@jupyter-widgets/base",
            "_model_module_version": "1.2.0",
            "_model_name": "LayoutModel",
            "_view_count": null,
            "_view_module": "@jupyter-widgets/base",
            "_view_module_version": "1.2.0",
            "_view_name": "LayoutView",
            "align_content": null,
            "align_items": null,
            "align_self": null,
            "border": null,
            "bottom": null,
            "display": null,
            "flex": null,
            "flex_flow": null,
            "grid_area": null,
            "grid_auto_columns": null,
            "grid_auto_flow": null,
            "grid_auto_rows": null,
            "grid_column": null,
            "grid_gap": null,
            "grid_row": null,
            "grid_template_areas": null,
            "grid_template_columns": null,
            "grid_template_rows": null,
            "height": null,
            "justify_content": null,
            "justify_items": null,
            "left": null,
            "margin": null,
            "max_height": null,
            "max_width": null,
            "min_height": null,
            "min_width": null,
            "object_fit": null,
            "object_position": null,
            "order": null,
            "overflow": null,
            "overflow_x": null,
            "overflow_y": null,
            "padding": null,
            "right": null,
            "top": null,
            "visibility": null,
            "width": null
          }
        },
        "bd4f09aa84f14b80ae0fc21f25a62cf9": {
          "model_module": "@jupyter-widgets/controls",
          "model_name": "DescriptionStyleModel",
          "model_module_version": "1.5.0",
          "state": {
            "_model_module": "@jupyter-widgets/controls",
            "_model_module_version": "1.5.0",
            "_model_name": "DescriptionStyleModel",
            "_view_count": null,
            "_view_module": "@jupyter-widgets/base",
            "_view_module_version": "1.2.0",
            "_view_name": "StyleView",
            "description_width": ""
          }
        }
      }
    }
  },
  "cells": [
    {
      "cell_type": "markdown",
      "metadata": {
        "id": "view-in-github",
        "colab_type": "text"
      },
      "source": [
        "<a href=\"https://colab.research.google.com/github/gnurt1402/Facial-Emotion/blob/main/facial_emotions_detection.ipynb\" target=\"_parent\"><img src=\"https://colab.research.google.com/assets/colab-badge.svg\" alt=\"Open In Colab\"/></a>"
      ]
    },
    {
      "cell_type": "code",
      "execution_count": 1,
      "metadata": {
        "colab": {
          "base_uri": "https://localhost:8080/"
        },
        "id": "M2KWN46qyXFL",
        "outputId": "876b93a6-c8a1-44a4-a928-b4d7a59ccf86"
      },
      "outputs": [
        {
          "output_type": "stream",
          "name": "stdout",
          "text": [
            "Mounted at /content/drive\n"
          ]
        }
      ],
      "source": [
        "from google.colab import drive\n",
        "drive.mount('/content/drive')\n",
        "# Insert the directory\n",
        "\n",
        "FOLDERNAME = 'Facial-Emotion-Detection'\n",
        "assert FOLDERNAME is not None, \"[!] Enter the foldername.\"\n",
        "import sys\n",
        "sys.path.append('/content/drive/MyDrive/{}'.format(FOLDERNAME))"
      ]
    },
    {
      "cell_type": "code",
      "source": [
        "gpu_info = !nvidia-smi\n",
        "gpu_info = '\\n'.join(gpu_info)\n",
        "if gpu_info.find('failed') >= 0:\n",
        "  print('Select the Runtime > \"Change runtime type\" menu to enable a GPU accelerator, ')\n",
        "  print('and then re-execute this cell.')\n",
        "else:\n",
        "  print(gpu_info)"
      ],
      "metadata": {
        "colab": {
          "base_uri": "https://localhost:8080/"
        },
        "id": "Ko6E7OAM4okf",
        "outputId": "b404be1b-e6d9-404a-b6a8-b7dbcb21b31f"
      },
      "execution_count": 2,
      "outputs": [
        {
          "output_type": "stream",
          "name": "stdout",
          "text": [
            "Wed Jan  4 17:44:48 2023       \n",
            "+-----------------------------------------------------------------------------+\n",
            "| NVIDIA-SMI 460.32.03    Driver Version: 460.32.03    CUDA Version: 11.2     |\n",
            "|-------------------------------+----------------------+----------------------+\n",
            "| GPU  Name        Persistence-M| Bus-Id        Disp.A | Volatile Uncorr. ECC |\n",
            "| Fan  Temp  Perf  Pwr:Usage/Cap|         Memory-Usage | GPU-Util  Compute M. |\n",
            "|                               |                      |               MIG M. |\n",
            "|===============================+======================+======================|\n",
            "|   0  Tesla T4            Off  | 00000000:00:04.0 Off |                    0 |\n",
            "| N/A   67C    P0    29W /  70W |      0MiB / 15109MiB |      0%      Default |\n",
            "|                               |                      |                  N/A |\n",
            "+-------------------------------+----------------------+----------------------+\n",
            "                                                                               \n",
            "+-----------------------------------------------------------------------------+\n",
            "| Processes:                                                                  |\n",
            "|  GPU   GI   CI        PID   Type   Process name                  GPU Memory |\n",
            "|        ID   ID                                                   Usage      |\n",
            "|=============================================================================|\n",
            "|  No running processes found                                                 |\n",
            "+-----------------------------------------------------------------------------+\n"
          ]
        }
      ]
    },
    {
      "cell_type": "code",
      "source": [
        "!unzip  /content/drive/MyDrive/Facial-Emotion-Detection/archive.zip -d /content/drive/MyDrive/Facial-Emotion-Detection/"
      ],
      "metadata": {
        "id": "JljBoKz54sKy"
      },
      "execution_count": null,
      "outputs": []
    },
    {
      "cell_type": "code",
      "source": [
        "import pandas as pd\n",
        "import numpy as np\n",
        "import os\n",
        "import matplotlib.pyplot as plt\n",
        "import seaborn as sns\n",
        "import warnings\n",
        "import random\n",
        "from tqdm.notebook import tqdm\n",
        "warnings.filterwarnings('ignore')\n",
        "%matplotlib inline\n",
        "\n",
        "import tensorflow as tf\n",
        "from tensorflow.keras.utils import to_categorical\n",
        "from tensorflow.keras.preprocessing.image import load_img\n",
        "from keras.models import Sequential\n",
        "from keras.layers import Dense, Conv2D, Dropout, Flatten, MaxPooling2D"
      ],
      "metadata": {
        "id": "ZCWpKIf14o4l"
      },
      "execution_count": 6,
      "outputs": []
    },
    {
      "cell_type": "code",
      "source": [
        "TRAIN_DIR = '/content/drive/MyDrive/Facial-Emotion-Detection/train/train/'\n",
        "TEST_DIR = '/content/drive/MyDrive/Facial-Emotion-Detection/test/test/'"
      ],
      "metadata": {
        "id": "RQn06ImF43Kt"
      },
      "execution_count": 7,
      "outputs": []
    },
    {
      "cell_type": "code",
      "source": [
        "def load_dataset(directory):\n",
        "    image_paths = []\n",
        "    labels = []\n",
        "    \n",
        "    for label in os.listdir(directory):\n",
        "        for filename in os.listdir(directory+label):\n",
        "            image_path = os.path.join(directory, label, filename)\n",
        "            image_paths.append(image_path)\n",
        "            labels.append(label)\n",
        "            \n",
        "        print(label, \"Completed\")\n",
        "        \n",
        "    return image_paths, labels"
      ],
      "metadata": {
        "id": "ik88Zqd85CFc"
      },
      "execution_count": 8,
      "outputs": []
    },
    {
      "cell_type": "code",
      "source": [
        "## convert into dataframe\n",
        "train = pd.DataFrame()\n",
        "train['image'], train['label'] = load_dataset(TRAIN_DIR)\n",
        "# shuffle the dataset\n",
        "train = train.sample(frac=1).reset_index(drop=True)\n",
        "train.head()"
      ],
      "metadata": {
        "colab": {
          "base_uri": "https://localhost:8080/",
          "height": 328
        },
        "id": "hScfNO5Z5_V7",
        "outputId": "202d2c50-eca4-40b3-c47b-88328a9d5163"
      },
      "execution_count": 9,
      "outputs": [
        {
          "output_type": "stream",
          "name": "stdout",
          "text": [
            "angry Completed\n",
            "disgust Completed\n",
            "fear Completed\n",
            "happy Completed\n",
            "neutral Completed\n",
            "sad Completed\n",
            "surprise Completed\n"
          ]
        },
        {
          "output_type": "execute_result",
          "data": {
            "text/plain": [
              "                                               image    label\n",
              "0  /content/drive/MyDrive/Facial-Emotion-Detectio...      sad\n",
              "1  /content/drive/MyDrive/Facial-Emotion-Detectio...  disgust\n",
              "2  /content/drive/MyDrive/Facial-Emotion-Detectio...      sad\n",
              "3  /content/drive/MyDrive/Facial-Emotion-Detectio...  neutral\n",
              "4  /content/drive/MyDrive/Facial-Emotion-Detectio...     fear"
            ],
            "text/html": [
              "\n",
              "  <div id=\"df-f0afcb03-f7ed-4f04-badb-397210ab8313\">\n",
              "    <div class=\"colab-df-container\">\n",
              "      <div>\n",
              "<style scoped>\n",
              "    .dataframe tbody tr th:only-of-type {\n",
              "        vertical-align: middle;\n",
              "    }\n",
              "\n",
              "    .dataframe tbody tr th {\n",
              "        vertical-align: top;\n",
              "    }\n",
              "\n",
              "    .dataframe thead th {\n",
              "        text-align: right;\n",
              "    }\n",
              "</style>\n",
              "<table border=\"1\" class=\"dataframe\">\n",
              "  <thead>\n",
              "    <tr style=\"text-align: right;\">\n",
              "      <th></th>\n",
              "      <th>image</th>\n",
              "      <th>label</th>\n",
              "    </tr>\n",
              "  </thead>\n",
              "  <tbody>\n",
              "    <tr>\n",
              "      <th>0</th>\n",
              "      <td>/content/drive/MyDrive/Facial-Emotion-Detectio...</td>\n",
              "      <td>sad</td>\n",
              "    </tr>\n",
              "    <tr>\n",
              "      <th>1</th>\n",
              "      <td>/content/drive/MyDrive/Facial-Emotion-Detectio...</td>\n",
              "      <td>disgust</td>\n",
              "    </tr>\n",
              "    <tr>\n",
              "      <th>2</th>\n",
              "      <td>/content/drive/MyDrive/Facial-Emotion-Detectio...</td>\n",
              "      <td>sad</td>\n",
              "    </tr>\n",
              "    <tr>\n",
              "      <th>3</th>\n",
              "      <td>/content/drive/MyDrive/Facial-Emotion-Detectio...</td>\n",
              "      <td>neutral</td>\n",
              "    </tr>\n",
              "    <tr>\n",
              "      <th>4</th>\n",
              "      <td>/content/drive/MyDrive/Facial-Emotion-Detectio...</td>\n",
              "      <td>fear</td>\n",
              "    </tr>\n",
              "  </tbody>\n",
              "</table>\n",
              "</div>\n",
              "      <button class=\"colab-df-convert\" onclick=\"convertToInteractive('df-f0afcb03-f7ed-4f04-badb-397210ab8313')\"\n",
              "              title=\"Convert this dataframe to an interactive table.\"\n",
              "              style=\"display:none;\">\n",
              "        \n",
              "  <svg xmlns=\"http://www.w3.org/2000/svg\" height=\"24px\"viewBox=\"0 0 24 24\"\n",
              "       width=\"24px\">\n",
              "    <path d=\"M0 0h24v24H0V0z\" fill=\"none\"/>\n",
              "    <path d=\"M18.56 5.44l.94 2.06.94-2.06 2.06-.94-2.06-.94-.94-2.06-.94 2.06-2.06.94zm-11 1L8.5 8.5l.94-2.06 2.06-.94-2.06-.94L8.5 2.5l-.94 2.06-2.06.94zm10 10l.94 2.06.94-2.06 2.06-.94-2.06-.94-.94-2.06-.94 2.06-2.06.94z\"/><path d=\"M17.41 7.96l-1.37-1.37c-.4-.4-.92-.59-1.43-.59-.52 0-1.04.2-1.43.59L10.3 9.45l-7.72 7.72c-.78.78-.78 2.05 0 2.83L4 21.41c.39.39.9.59 1.41.59.51 0 1.02-.2 1.41-.59l7.78-7.78 2.81-2.81c.8-.78.8-2.07 0-2.86zM5.41 20L4 18.59l7.72-7.72 1.47 1.35L5.41 20z\"/>\n",
              "  </svg>\n",
              "      </button>\n",
              "      \n",
              "  <style>\n",
              "    .colab-df-container {\n",
              "      display:flex;\n",
              "      flex-wrap:wrap;\n",
              "      gap: 12px;\n",
              "    }\n",
              "\n",
              "    .colab-df-convert {\n",
              "      background-color: #E8F0FE;\n",
              "      border: none;\n",
              "      border-radius: 50%;\n",
              "      cursor: pointer;\n",
              "      display: none;\n",
              "      fill: #1967D2;\n",
              "      height: 32px;\n",
              "      padding: 0 0 0 0;\n",
              "      width: 32px;\n",
              "    }\n",
              "\n",
              "    .colab-df-convert:hover {\n",
              "      background-color: #E2EBFA;\n",
              "      box-shadow: 0px 1px 2px rgba(60, 64, 67, 0.3), 0px 1px 3px 1px rgba(60, 64, 67, 0.15);\n",
              "      fill: #174EA6;\n",
              "    }\n",
              "\n",
              "    [theme=dark] .colab-df-convert {\n",
              "      background-color: #3B4455;\n",
              "      fill: #D2E3FC;\n",
              "    }\n",
              "\n",
              "    [theme=dark] .colab-df-convert:hover {\n",
              "      background-color: #434B5C;\n",
              "      box-shadow: 0px 1px 3px 1px rgba(0, 0, 0, 0.15);\n",
              "      filter: drop-shadow(0px 1px 2px rgba(0, 0, 0, 0.3));\n",
              "      fill: #FFFFFF;\n",
              "    }\n",
              "  </style>\n",
              "\n",
              "      <script>\n",
              "        const buttonEl =\n",
              "          document.querySelector('#df-f0afcb03-f7ed-4f04-badb-397210ab8313 button.colab-df-convert');\n",
              "        buttonEl.style.display =\n",
              "          google.colab.kernel.accessAllowed ? 'block' : 'none';\n",
              "\n",
              "        async function convertToInteractive(key) {\n",
              "          const element = document.querySelector('#df-f0afcb03-f7ed-4f04-badb-397210ab8313');\n",
              "          const dataTable =\n",
              "            await google.colab.kernel.invokeFunction('convertToInteractive',\n",
              "                                                     [key], {});\n",
              "          if (!dataTable) return;\n",
              "\n",
              "          const docLinkHtml = 'Like what you see? Visit the ' +\n",
              "            '<a target=\"_blank\" href=https://colab.research.google.com/notebooks/data_table.ipynb>data table notebook</a>'\n",
              "            + ' to learn more about interactive tables.';\n",
              "          element.innerHTML = '';\n",
              "          dataTable['output_type'] = 'display_data';\n",
              "          await google.colab.output.renderOutput(dataTable, element);\n",
              "          const docLink = document.createElement('div');\n",
              "          docLink.innerHTML = docLinkHtml;\n",
              "          element.appendChild(docLink);\n",
              "        }\n",
              "      </script>\n",
              "    </div>\n",
              "  </div>\n",
              "  "
            ]
          },
          "metadata": {},
          "execution_count": 9
        }
      ]
    },
    {
      "cell_type": "code",
      "source": [
        "test = pd.DataFrame()\n",
        "test['image'], test['label'] = load_dataset(TEST_DIR)\n",
        "test.head()"
      ],
      "metadata": {
        "colab": {
          "base_uri": "https://localhost:8080/",
          "height": 328
        },
        "id": "uqI_pQVM5bYC",
        "outputId": "4619df82-dc88-475f-f47a-77853ec25b2b"
      },
      "execution_count": 10,
      "outputs": [
        {
          "output_type": "stream",
          "name": "stdout",
          "text": [
            "angry Completed\n",
            "disgust Completed\n",
            "fear Completed\n",
            "happy Completed\n",
            "neutral Completed\n",
            "sad Completed\n",
            "surprise Completed\n"
          ]
        },
        {
          "output_type": "execute_result",
          "data": {
            "text/plain": [
              "                                               image  label\n",
              "0  /content/drive/MyDrive/Facial-Emotion-Detectio...  angry\n",
              "1  /content/drive/MyDrive/Facial-Emotion-Detectio...  angry\n",
              "2  /content/drive/MyDrive/Facial-Emotion-Detectio...  angry\n",
              "3  /content/drive/MyDrive/Facial-Emotion-Detectio...  angry\n",
              "4  /content/drive/MyDrive/Facial-Emotion-Detectio...  angry"
            ],
            "text/html": [
              "\n",
              "  <div id=\"df-159efe31-fec3-417d-a159-57a4b052dd1c\">\n",
              "    <div class=\"colab-df-container\">\n",
              "      <div>\n",
              "<style scoped>\n",
              "    .dataframe tbody tr th:only-of-type {\n",
              "        vertical-align: middle;\n",
              "    }\n",
              "\n",
              "    .dataframe tbody tr th {\n",
              "        vertical-align: top;\n",
              "    }\n",
              "\n",
              "    .dataframe thead th {\n",
              "        text-align: right;\n",
              "    }\n",
              "</style>\n",
              "<table border=\"1\" class=\"dataframe\">\n",
              "  <thead>\n",
              "    <tr style=\"text-align: right;\">\n",
              "      <th></th>\n",
              "      <th>image</th>\n",
              "      <th>label</th>\n",
              "    </tr>\n",
              "  </thead>\n",
              "  <tbody>\n",
              "    <tr>\n",
              "      <th>0</th>\n",
              "      <td>/content/drive/MyDrive/Facial-Emotion-Detectio...</td>\n",
              "      <td>angry</td>\n",
              "    </tr>\n",
              "    <tr>\n",
              "      <th>1</th>\n",
              "      <td>/content/drive/MyDrive/Facial-Emotion-Detectio...</td>\n",
              "      <td>angry</td>\n",
              "    </tr>\n",
              "    <tr>\n",
              "      <th>2</th>\n",
              "      <td>/content/drive/MyDrive/Facial-Emotion-Detectio...</td>\n",
              "      <td>angry</td>\n",
              "    </tr>\n",
              "    <tr>\n",
              "      <th>3</th>\n",
              "      <td>/content/drive/MyDrive/Facial-Emotion-Detectio...</td>\n",
              "      <td>angry</td>\n",
              "    </tr>\n",
              "    <tr>\n",
              "      <th>4</th>\n",
              "      <td>/content/drive/MyDrive/Facial-Emotion-Detectio...</td>\n",
              "      <td>angry</td>\n",
              "    </tr>\n",
              "  </tbody>\n",
              "</table>\n",
              "</div>\n",
              "      <button class=\"colab-df-convert\" onclick=\"convertToInteractive('df-159efe31-fec3-417d-a159-57a4b052dd1c')\"\n",
              "              title=\"Convert this dataframe to an interactive table.\"\n",
              "              style=\"display:none;\">\n",
              "        \n",
              "  <svg xmlns=\"http://www.w3.org/2000/svg\" height=\"24px\"viewBox=\"0 0 24 24\"\n",
              "       width=\"24px\">\n",
              "    <path d=\"M0 0h24v24H0V0z\" fill=\"none\"/>\n",
              "    <path d=\"M18.56 5.44l.94 2.06.94-2.06 2.06-.94-2.06-.94-.94-2.06-.94 2.06-2.06.94zm-11 1L8.5 8.5l.94-2.06 2.06-.94-2.06-.94L8.5 2.5l-.94 2.06-2.06.94zm10 10l.94 2.06.94-2.06 2.06-.94-2.06-.94-.94-2.06-.94 2.06-2.06.94z\"/><path d=\"M17.41 7.96l-1.37-1.37c-.4-.4-.92-.59-1.43-.59-.52 0-1.04.2-1.43.59L10.3 9.45l-7.72 7.72c-.78.78-.78 2.05 0 2.83L4 21.41c.39.39.9.59 1.41.59.51 0 1.02-.2 1.41-.59l7.78-7.78 2.81-2.81c.8-.78.8-2.07 0-2.86zM5.41 20L4 18.59l7.72-7.72 1.47 1.35L5.41 20z\"/>\n",
              "  </svg>\n",
              "      </button>\n",
              "      \n",
              "  <style>\n",
              "    .colab-df-container {\n",
              "      display:flex;\n",
              "      flex-wrap:wrap;\n",
              "      gap: 12px;\n",
              "    }\n",
              "\n",
              "    .colab-df-convert {\n",
              "      background-color: #E8F0FE;\n",
              "      border: none;\n",
              "      border-radius: 50%;\n",
              "      cursor: pointer;\n",
              "      display: none;\n",
              "      fill: #1967D2;\n",
              "      height: 32px;\n",
              "      padding: 0 0 0 0;\n",
              "      width: 32px;\n",
              "    }\n",
              "\n",
              "    .colab-df-convert:hover {\n",
              "      background-color: #E2EBFA;\n",
              "      box-shadow: 0px 1px 2px rgba(60, 64, 67, 0.3), 0px 1px 3px 1px rgba(60, 64, 67, 0.15);\n",
              "      fill: #174EA6;\n",
              "    }\n",
              "\n",
              "    [theme=dark] .colab-df-convert {\n",
              "      background-color: #3B4455;\n",
              "      fill: #D2E3FC;\n",
              "    }\n",
              "\n",
              "    [theme=dark] .colab-df-convert:hover {\n",
              "      background-color: #434B5C;\n",
              "      box-shadow: 0px 1px 3px 1px rgba(0, 0, 0, 0.15);\n",
              "      filter: drop-shadow(0px 1px 2px rgba(0, 0, 0, 0.3));\n",
              "      fill: #FFFFFF;\n",
              "    }\n",
              "  </style>\n",
              "\n",
              "      <script>\n",
              "        const buttonEl =\n",
              "          document.querySelector('#df-159efe31-fec3-417d-a159-57a4b052dd1c button.colab-df-convert');\n",
              "        buttonEl.style.display =\n",
              "          google.colab.kernel.accessAllowed ? 'block' : 'none';\n",
              "\n",
              "        async function convertToInteractive(key) {\n",
              "          const element = document.querySelector('#df-159efe31-fec3-417d-a159-57a4b052dd1c');\n",
              "          const dataTable =\n",
              "            await google.colab.kernel.invokeFunction('convertToInteractive',\n",
              "                                                     [key], {});\n",
              "          if (!dataTable) return;\n",
              "\n",
              "          const docLinkHtml = 'Like what you see? Visit the ' +\n",
              "            '<a target=\"_blank\" href=https://colab.research.google.com/notebooks/data_table.ipynb>data table notebook</a>'\n",
              "            + ' to learn more about interactive tables.';\n",
              "          element.innerHTML = '';\n",
              "          dataTable['output_type'] = 'display_data';\n",
              "          await google.colab.output.renderOutput(dataTable, element);\n",
              "          const docLink = document.createElement('div');\n",
              "          docLink.innerHTML = docLinkHtml;\n",
              "          element.appendChild(docLink);\n",
              "        }\n",
              "      </script>\n",
              "    </div>\n",
              "  </div>\n",
              "  "
            ]
          },
          "metadata": {},
          "execution_count": 10
        }
      ]
    },
    {
      "cell_type": "code",
      "source": [
        "sns.countplot(train['label'])"
      ],
      "metadata": {
        "colab": {
          "base_uri": "https://localhost:8080/",
          "height": 296
        },
        "id": "iSYAISBH5o6R",
        "outputId": "b2c9d695-d70a-43fb-c457-753af4ae2161"
      },
      "execution_count": 11,
      "outputs": [
        {
          "output_type": "execute_result",
          "data": {
            "text/plain": [
              "<matplotlib.axes._subplots.AxesSubplot at 0x7f7c1de464c0>"
            ]
          },
          "metadata": {},
          "execution_count": 11
        },
        {
          "output_type": "display_data",
          "data": {
            "text/plain": [
              "<Figure size 432x288 with 1 Axes>"
            ],
            "image/png": "[encoded data removed]"
          },
          "metadata": {
            "needs_background": "light"
          }
        }
      ]
    },
    {
      "cell_type": "code",
      "source": [
        "from PIL import Image\n",
        "img = Image.open(train['image'][0])\n",
        "plt.imshow(img, cmap='gray');"
      ],
      "metadata": {
        "colab": {
          "base_uri": "https://localhost:8080/",
          "height": 267
        },
        "id": "fR-bFIkp6NN8",
        "outputId": "0a6334b4-6137-47d6-d7b5-9ad6a3ee8822"
      },
      "execution_count": 12,
      "outputs": [
        {
          "output_type": "display_data",
          "data": {
            "text/plain": [
              "<Figure size 432x288 with 1 Axes>"
            ],
            "image/png": "[encoded data removed]"
          },
          "metadata": {
            "needs_background": "light"
          }
        }
      ]
    },
    {
      "cell_type": "code",
      "source": [
        "# to display grid of images\n",
        "plt.figure(figsize=(20,20))\n",
        "files = train.iloc[0:25]\n",
        "\n",
        "for index, file, label in files.itertuples():\n",
        "    plt.subplot(5, 5, index+1)\n",
        "    img = load_img(file)\n",
        "    img = np.array(img)\n",
        "    plt.imshow(img)\n",
        "    plt.title(label)\n",
        "    plt.axis('off')"
      ],
      "metadata": {
        "colab": {
          "base_uri": "https://localhost:8080/",
          "height": 1000
        },
        "id": "BmIM9XDq6O9J",
        "outputId": "3590e0f3-a929-4af0-c58e-fdd265f9a436"
      },
      "execution_count": 13,
      "outputs": [
        {
          "output_type": "display_data",
          "data": {
            "text/plain": [
              "<Figure size 1440x1440 with 25 Axes>"
            ],
            "image/png": "[encoded data removed]"
          },
          "metadata": {
            "needs_background": "light"
          }
        }
      ]
    },
    {
      "cell_type": "code",
      "source": [
        "def extract_features(images):\n",
        "    features = []\n",
        "    for image in tqdm(images):\n",
        "        img = load_img(image, grayscale=True)\n",
        "        img = np.array(img)\n",
        "        features.append(img)\n",
        "    features = np.array(features)\n",
        "    features = features.reshape(len(features), 48, 48, 1)\n",
        "    return features"
      ],
      "metadata": {
        "id": "av3H1wdm6T_x"
      },
      "execution_count": 14,
      "outputs": []
    },
    {
      "cell_type": "code",
      "source": [
        "train_features = extract_features(train['image'])"
      ],
      "metadata": {
        "colab": {
          "base_uri": "https://localhost:8080/",
          "height": 49,
          "referenced_widgets": [
            "11dacec9d40449b8910b77bfdd86d987",
            "7f62bd6e0e154d57a122589417bdb8db",
            "6ba5e6748a4143f6867ec62c2f5690a5",
            "02efc94ba63d4288ab5570b80d54d9df",
            "eaa453f3cb054da293f2e1e9a426af83",
            "6c95f2e60ea54127bd10d4e4f56a4d4e",
            "43336c5925e2448b95bf7fac4abfa9b1",
            "067803e1cf494bc8b806bbc54be796e0",
            "202f8f193fc5453b866c3a075a169bce",
            "9a6399bb76c34430a40262224b653163",
            "b804dbb998564e78b7ffc1af3c207d3c"
          ]
        },
        "id": "XPrkbynq6Ypq",
        "outputId": "874b83ef-ed2f-44b3-fc10-dd741d2ec1a5"
      },
      "execution_count": 15,
      "outputs": [
        {
          "output_type": "display_data",
          "data": {
            "text/plain": [
              "  0%|          | 0/28709 [00:00<?, ?it/s]"
            ],
            "application/vnd.jupyter.widget-view+json": {
              "version_major": 2,
              "version_minor": 0,
              "model_id": "11dacec9d40449b8910b77bfdd86d987"
            }
          },
          "metadata": {}
        }
      ]
    },
    {
      "cell_type": "code",
      "source": [
        "test_features = extract_features(test['image'])"
      ],
      "metadata": {
        "colab": {
          "base_uri": "https://localhost:8080/",
          "height": 49,
          "referenced_widgets": [
            "d83c5ade5fdc461683eee790475da6e6",
            "dff747c148504379adf3042fae33e13e",
            "74fdf59c9ddd4bab99d9f01a6fab0ab7",
            "28d3401ad0e84051bf5dff3e895a734e",
            "44b8283b31984c67ae95f751e0dcd43b",
            "98cfad8d33a24070be80a30536bf46ce",
            "d23140cffb2c48e39af88284652c4da5",
            "397aa3a780384a01b6043a90d2af3863",
            "7f3f40b989ce4f4f835ac06b35cf9950",
            "59fea77ba24a481299b0b53b4a79b761",
            "bd4f09aa84f14b80ae0fc21f25a62cf9"
          ]
        },
        "id": "kYMVrG0r6avk",
        "outputId": "d0291f42-cd71-4d21-a0bb-fcee44144010"
      },
      "execution_count": 16,
      "outputs": [
        {
          "output_type": "display_data",
          "data": {
            "text/plain": [
              "  0%|          | 0/7178 [00:00<?, ?it/s]"
            ],
            "application/vnd.jupyter.widget-view+json": {
              "version_major": 2,
              "version_minor": 0,
              "model_id": "d83c5ade5fdc461683eee790475da6e6"
            }
          },
          "metadata": {}
        }
      ]
    },
    {
      "cell_type": "code",
      "source": [
        "## normalize the image\n",
        "x_train = train_features/255.0\n",
        "x_test = test_features/255.0"
      ],
      "metadata": {
        "id": "fRNyRv3c6c_S"
      },
      "execution_count": 17,
      "outputs": []
    },
    {
      "cell_type": "code",
      "source": [
        "## convert label to integer\n",
        "from sklearn.preprocessing import LabelEncoder\n",
        "le = LabelEncoder()\n",
        "le.fit(train['label'])\n",
        "y_train = le.transform(train['label'])\n",
        "y_test = le.transform(test['label'])"
      ],
      "metadata": {
        "id": "nYQFBkKc6fD-"
      },
      "execution_count": 18,
      "outputs": []
    },
    {
      "cell_type": "code",
      "source": [
        "y_train = to_categorical(y_train, num_classes=7)\n",
        "y_test = to_categorical(y_test, num_classes=7)"
      ],
      "metadata": {
        "id": "0DV7iXdK6isp"
      },
      "execution_count": 19,
      "outputs": []
    },
    {
      "cell_type": "code",
      "source": [
        "# config\n",
        "input_shape = (48, 48, 1)\n",
        "output_class = 7"
      ],
      "metadata": {
        "id": "3ctPjlbp6luD"
      },
      "execution_count": 20,
      "outputs": []
    },
    {
      "cell_type": "code",
      "source": [
        "model = Sequential()\n",
        "# convolutional layers\n",
        "model.add(Conv2D(128, kernel_size=(3,3), activation='relu', input_shape=input_shape))\n",
        "model.add(MaxPooling2D(pool_size=(2,2)))\n",
        "model.add(Dropout(0.4))\n",
        "\n",
        "model.add(Conv2D(256, kernel_size=(3,3), activation='relu'))\n",
        "model.add(MaxPooling2D(pool_size=(2,2)))\n",
        "model.add(Dropout(0.4))\n",
        "\n",
        "model.add(Conv2D(512, kernel_size=(3,3), activation='relu'))\n",
        "model.add(MaxPooling2D(pool_size=(2,2)))\n",
        "model.add(Dropout(0.4))\n",
        "\n",
        "model.add(Conv2D(512, kernel_size=(3,3), activation='relu'))\n",
        "model.add(MaxPooling2D(pool_size=(2,2)))\n",
        "model.add(Dropout(0.4))\n",
        "\n",
        "model.add(Flatten())\n",
        "# fully connected layers\n",
        "model.add(Dense(512, activation='relu'))\n",
        "model.add(Dropout(0.4))\n",
        "model.add(Dense(256, activation='relu'))\n",
        "model.add(Dropout(0.3))\n",
        "# output layer\n",
        "model.add(Dense(output_class, activation='softmax'))\n",
        "\n",
        "model.compile(optimizer='adam', loss='categorical_crossentropy', metrics='accuracy')"
      ],
      "metadata": {
        "id": "raE4eywx6osl"
      },
      "execution_count": 21,
      "outputs": []
    },
    {
      "cell_type": "code",
      "source": [
        "model.summary()"
      ],
      "metadata": {
        "colab": {
          "base_uri": "https://localhost:8080/"
        },
        "id": "lutyOiZy_k-H",
        "outputId": "f71ba569-0367-460f-a7f4-c9b9efe1c028"
      },
      "execution_count": 27,
      "outputs": [
        {
          "output_type": "stream",
          "name": "stdout",
          "text": [
            "Model: \"sequential\"\n",
            "_________________________________________________________________\n",
            " Layer (type)                Output Shape              Param #   \n",
            "=================================================================\n",
            " conv2d (Conv2D)             (None, 46, 46, 128)       1280      \n",
            "                                                                 \n",
            " max_pooling2d (MaxPooling2D  (None, 23, 23, 128)      0         \n",
            " )                                                               \n",
            "                                                                 \n",
            " dropout (Dropout)           (None, 23, 23, 128)       0         \n",
            "                                                                 \n",
            " conv2d_1 (Conv2D)           (None, 21, 21, 256)       295168    \n",
            "                                                                 \n",
            " max_pooling2d_1 (MaxPooling  (None, 10, 10, 256)      0         \n",
            " 2D)                                                             \n",
            "                                                                 \n",
            " dropout_1 (Dropout)         (None, 10, 10, 256)       0         \n",
            "                                                                 \n",
            " conv2d_2 (Conv2D)           (None, 8, 8, 512)         1180160   \n",
            "                                                                 \n",
            " max_pooling2d_2 (MaxPooling  (None, 4, 4, 512)        0         \n",
            " 2D)                                                             \n",
            "                                                                 \n",
            " dropout_2 (Dropout)         (None, 4, 4, 512)         0         \n",
            "                                                                 \n",
            " conv2d_3 (Conv2D)           (None, 2, 2, 512)         2359808   \n",
            "                                                                 \n",
            " max_pooling2d_3 (MaxPooling  (None, 1, 1, 512)        0         \n",
            " 2D)                                                             \n",
            "                                                                 \n",
            " dropout_3 (Dropout)         (None, 1, 1, 512)         0         \n",
            "                                                                 \n",
            " flatten (Flatten)           (None, 512)               0         \n",
            "                                                                 \n",
            " dense (Dense)               (None, 512)               262656    \n",
            "                                                                 \n",
            " dropout_4 (Dropout)         (None, 512)               0         \n",
            "                                                                 \n",
            " dense_1 (Dense)             (None, 256)               131328    \n",
            "                                                                 \n",
            " dropout_5 (Dropout)         (None, 256)               0         \n",
            "                                                                 \n",
            " dense_2 (Dense)             (None, 7)                 1799      \n",
            "                                                                 \n",
            "=================================================================\n",
            "Total params: 4,232,199\n",
            "Trainable params: 4,232,199\n",
            "Non-trainable params: 0\n",
            "_________________________________________________________________\n"
          ]
        }
      ]
    },
    {
      "cell_type": "code",
      "source": [
        "# train the model\n",
        "history = model.fit(x=x_train, y=y_train, batch_size=128, epochs=100, validation_data=(x_test, y_test))"
      ],
      "metadata": {
        "colab": {
          "base_uri": "https://localhost:8080/"
        },
        "id": "ZS2NhoyY6tkV",
        "outputId": "cd2d0329-f986-4937-e228-e34cd91cbe9f"
      },
      "execution_count": 22,
      "outputs": [
        {
          "output_type": "stream",
          "name": "stdout",
          "text": [
            "Epoch 1/100\n",
            "225/225 [==============================] - 23s 57ms/step - loss: 1.8234 - accuracy: 0.2455 - val_loss: 1.8153 - val_accuracy: 0.2471\n",
            "Epoch 2/100\n",
            "225/225 [==============================] - 12s 53ms/step - loss: 1.8139 - accuracy: 0.2512 - val_loss: 1.8149 - val_accuracy: 0.2471\n",
            "Epoch 3/100\n",
            "225/225 [==============================] - 12s 53ms/step - loss: 1.8121 - accuracy: 0.2517 - val_loss: 1.8058 - val_accuracy: 0.2555\n",
            "Epoch 4/100\n",
            "225/225 [==============================] - 13s 59ms/step - loss: 1.8013 - accuracy: 0.2557 - val_loss: 1.7960 - val_accuracy: 0.2471\n",
            "Epoch 5/100\n",
            "225/225 [==============================] - 12s 55ms/step - loss: 1.7358 - accuracy: 0.2890 - val_loss: 1.6442 - val_accuracy: 0.3399\n",
            "Epoch 6/100\n",
            "225/225 [==============================] - 12s 53ms/step - loss: 1.6535 - accuracy: 0.3406 - val_loss: 1.5518 - val_accuracy: 0.4050\n",
            "Epoch 7/100\n",
            "225/225 [==============================] - 12s 55ms/step - loss: 1.5710 - accuracy: 0.3841 - val_loss: 1.4312 - val_accuracy: 0.4420\n",
            "Epoch 8/100\n",
            "225/225 [==============================] - 12s 55ms/step - loss: 1.4939 - accuracy: 0.4203 - val_loss: 1.3830 - val_accuracy: 0.4618\n",
            "Epoch 9/100\n",
            "225/225 [==============================] - 12s 54ms/step - loss: 1.4508 - accuracy: 0.4392 - val_loss: 1.3347 - val_accuracy: 0.4894\n",
            "Epoch 10/100\n",
            "225/225 [==============================] - 13s 56ms/step - loss: 1.4092 - accuracy: 0.4551 - val_loss: 1.3014 - val_accuracy: 0.4915\n",
            "Epoch 11/100\n",
            "225/225 [==============================] - 12s 53ms/step - loss: 1.3885 - accuracy: 0.4643 - val_loss: 1.2826 - val_accuracy: 0.5014\n",
            "Epoch 12/100\n",
            "225/225 [==============================] - 12s 53ms/step - loss: 1.3618 - accuracy: 0.4763 - val_loss: 1.2428 - val_accuracy: 0.5242\n",
            "Epoch 13/100\n",
            "225/225 [==============================] - 13s 56ms/step - loss: 1.3432 - accuracy: 0.4872 - val_loss: 1.2259 - val_accuracy: 0.5263\n",
            "Epoch 14/100\n",
            "225/225 [==============================] - 12s 55ms/step - loss: 1.3206 - accuracy: 0.4905 - val_loss: 1.2116 - val_accuracy: 0.5344\n",
            "Epoch 15/100\n",
            "225/225 [==============================] - 12s 53ms/step - loss: 1.3008 - accuracy: 0.5044 - val_loss: 1.1894 - val_accuracy: 0.5437\n",
            "Epoch 16/100\n",
            "225/225 [==============================] - 12s 53ms/step - loss: 1.2849 - accuracy: 0.5099 - val_loss: 1.1918 - val_accuracy: 0.5426\n",
            "Epoch 17/100\n",
            "225/225 [==============================] - 12s 54ms/step - loss: 1.2698 - accuracy: 0.5152 - val_loss: 1.1794 - val_accuracy: 0.5490\n",
            "Epoch 18/100\n",
            "225/225 [==============================] - 12s 53ms/step - loss: 1.2617 - accuracy: 0.5198 - val_loss: 1.1668 - val_accuracy: 0.5525\n",
            "Epoch 19/100\n",
            "225/225 [==============================] - 12s 53ms/step - loss: 1.2536 - accuracy: 0.5252 - val_loss: 1.1478 - val_accuracy: 0.5632\n",
            "Epoch 20/100\n",
            "225/225 [==============================] - 12s 53ms/step - loss: 1.2377 - accuracy: 0.5279 - val_loss: 1.1496 - val_accuracy: 0.5612\n",
            "Epoch 21/100\n",
            "225/225 [==============================] - 12s 55ms/step - loss: 1.2210 - accuracy: 0.5359 - val_loss: 1.1375 - val_accuracy: 0.5610\n",
            "Epoch 22/100\n",
            "225/225 [==============================] - 12s 54ms/step - loss: 1.2158 - accuracy: 0.5392 - val_loss: 1.1373 - val_accuracy: 0.5630\n",
            "Epoch 23/100\n",
            "225/225 [==============================] - 12s 53ms/step - loss: 1.2036 - accuracy: 0.5435 - val_loss: 1.1374 - val_accuracy: 0.5603\n",
            "Epoch 24/100\n",
            "225/225 [==============================] - 12s 55ms/step - loss: 1.1951 - accuracy: 0.5443 - val_loss: 1.1293 - val_accuracy: 0.5651\n",
            "Epoch 25/100\n",
            "225/225 [==============================] - 12s 54ms/step - loss: 1.1879 - accuracy: 0.5495 - val_loss: 1.1098 - val_accuracy: 0.5737\n",
            "Epoch 26/100\n",
            "225/225 [==============================] - 12s 54ms/step - loss: 1.1873 - accuracy: 0.5514 - val_loss: 1.1023 - val_accuracy: 0.5780\n",
            "Epoch 27/100\n",
            "225/225 [==============================] - 12s 53ms/step - loss: 1.1682 - accuracy: 0.5561 - val_loss: 1.1158 - val_accuracy: 0.5782\n",
            "Epoch 28/100\n",
            "225/225 [==============================] - 12s 55ms/step - loss: 1.1573 - accuracy: 0.5597 - val_loss: 1.0927 - val_accuracy: 0.5808\n",
            "Epoch 29/100\n",
            "225/225 [==============================] - 12s 53ms/step - loss: 1.1593 - accuracy: 0.5633 - val_loss: 1.1043 - val_accuracy: 0.5769\n",
            "Epoch 30/100\n",
            "225/225 [==============================] - 12s 55ms/step - loss: 1.1454 - accuracy: 0.5676 - val_loss: 1.0826 - val_accuracy: 0.5848\n",
            "Epoch 31/100\n",
            "225/225 [==============================] - 12s 53ms/step - loss: 1.1399 - accuracy: 0.5683 - val_loss: 1.0980 - val_accuracy: 0.5822\n",
            "Epoch 32/100\n",
            "225/225 [==============================] - 12s 55ms/step - loss: 1.1268 - accuracy: 0.5750 - val_loss: 1.0842 - val_accuracy: 0.5858\n",
            "Epoch 33/100\n",
            "225/225 [==============================] - 12s 53ms/step - loss: 1.1281 - accuracy: 0.5756 - val_loss: 1.0842 - val_accuracy: 0.5900\n",
            "Epoch 34/100\n",
            "225/225 [==============================] - 12s 55ms/step - loss: 1.1215 - accuracy: 0.5763 - val_loss: 1.0847 - val_accuracy: 0.5890\n",
            "Epoch 35/100\n",
            "225/225 [==============================] - 13s 56ms/step - loss: 1.1187 - accuracy: 0.5798 - val_loss: 1.0666 - val_accuracy: 0.5900\n",
            "Epoch 36/100\n",
            "225/225 [==============================] - 13s 57ms/step - loss: 1.1097 - accuracy: 0.5850 - val_loss: 1.0731 - val_accuracy: 0.5879\n",
            "Epoch 37/100\n",
            "225/225 [==============================] - 12s 55ms/step - loss: 1.0981 - accuracy: 0.5838 - val_loss: 1.0675 - val_accuracy: 0.5968\n",
            "Epoch 38/100\n",
            "225/225 [==============================] - 12s 54ms/step - loss: 1.0968 - accuracy: 0.5843 - val_loss: 1.0643 - val_accuracy: 0.5956\n",
            "Epoch 39/100\n",
            "225/225 [==============================] - 13s 57ms/step - loss: 1.0825 - accuracy: 0.5911 - val_loss: 1.0601 - val_accuracy: 0.5968\n",
            "Epoch 40/100\n",
            "225/225 [==============================] - 13s 57ms/step - loss: 1.0862 - accuracy: 0.5877 - val_loss: 1.0565 - val_accuracy: 0.5986\n",
            "Epoch 41/100\n",
            "225/225 [==============================] - 12s 54ms/step - loss: 1.0692 - accuracy: 0.5974 - val_loss: 1.0537 - val_accuracy: 0.6032\n",
            "Epoch 42/100\n",
            "225/225 [==============================] - 12s 55ms/step - loss: 1.0712 - accuracy: 0.5986 - val_loss: 1.0629 - val_accuracy: 0.5961\n",
            "Epoch 43/100\n",
            "225/225 [==============================] - 12s 54ms/step - loss: 1.0662 - accuracy: 0.6029 - val_loss: 1.0740 - val_accuracy: 0.5991\n",
            "Epoch 44/100\n",
            "225/225 [==============================] - 12s 54ms/step - loss: 1.0645 - accuracy: 0.5987 - val_loss: 1.0508 - val_accuracy: 0.6034\n",
            "Epoch 45/100\n",
            "225/225 [==============================] - 13s 56ms/step - loss: 1.0580 - accuracy: 0.6026 - val_loss: 1.0660 - val_accuracy: 0.5982\n",
            "Epoch 46/100\n",
            "225/225 [==============================] - 13s 56ms/step - loss: 1.0492 - accuracy: 0.6062 - val_loss: 1.0577 - val_accuracy: 0.5965\n",
            "Epoch 47/100\n",
            "225/225 [==============================] - 13s 56ms/step - loss: 1.0398 - accuracy: 0.6099 - val_loss: 1.0497 - val_accuracy: 0.6052\n",
            "Epoch 48/100\n",
            "225/225 [==============================] - 12s 54ms/step - loss: 1.0363 - accuracy: 0.6107 - val_loss: 1.0462 - val_accuracy: 0.6085\n",
            "Epoch 49/100\n",
            "225/225 [==============================] - 13s 56ms/step - loss: 1.0288 - accuracy: 0.6136 - val_loss: 1.0506 - val_accuracy: 0.6021\n",
            "Epoch 50/100\n",
            "225/225 [==============================] - 12s 54ms/step - loss: 1.0250 - accuracy: 0.6140 - val_loss: 1.0411 - val_accuracy: 0.6080\n",
            "Epoch 51/100\n",
            "225/225 [==============================] - 12s 54ms/step - loss: 1.0238 - accuracy: 0.6176 - val_loss: 1.0329 - val_accuracy: 0.6081\n",
            "Epoch 52/100\n",
            "225/225 [==============================] - 13s 56ms/step - loss: 1.0257 - accuracy: 0.6166 - val_loss: 1.0355 - val_accuracy: 0.6133\n",
            "Epoch 53/100\n",
            "225/225 [==============================] - 12s 54ms/step - loss: 1.0081 - accuracy: 0.6196 - val_loss: 1.0362 - val_accuracy: 0.6109\n",
            "Epoch 54/100\n",
            "225/225 [==============================] - 12s 54ms/step - loss: 1.0103 - accuracy: 0.6241 - val_loss: 1.0305 - val_accuracy: 0.6191\n",
            "Epoch 55/100\n",
            "225/225 [==============================] - 13s 56ms/step - loss: 1.0098 - accuracy: 0.6259 - val_loss: 1.0547 - val_accuracy: 0.6071\n",
            "Epoch 56/100\n",
            "225/225 [==============================] - 12s 54ms/step - loss: 0.9957 - accuracy: 0.6266 - val_loss: 1.0412 - val_accuracy: 0.6101\n",
            "Epoch 57/100\n",
            "225/225 [==============================] - 13s 56ms/step - loss: 0.9864 - accuracy: 0.6296 - val_loss: 1.0336 - val_accuracy: 0.6149\n",
            "Epoch 58/100\n",
            "225/225 [==============================] - 12s 54ms/step - loss: 0.9814 - accuracy: 0.6346 - val_loss: 1.0313 - val_accuracy: 0.6162\n",
            "Epoch 59/100\n",
            "225/225 [==============================] - 12s 54ms/step - loss: 0.9893 - accuracy: 0.6300 - val_loss: 1.0302 - val_accuracy: 0.6135\n",
            "Epoch 60/100\n",
            "225/225 [==============================] - 12s 54ms/step - loss: 0.9762 - accuracy: 0.6369 - val_loss: 1.0238 - val_accuracy: 0.6209\n",
            "Epoch 61/100\n",
            "225/225 [==============================] - 12s 54ms/step - loss: 0.9682 - accuracy: 0.6402 - val_loss: 1.0294 - val_accuracy: 0.6166\n",
            "Epoch 62/100\n",
            "225/225 [==============================] - 12s 54ms/step - loss: 0.9764 - accuracy: 0.6355 - val_loss: 1.0424 - val_accuracy: 0.6156\n",
            "Epoch 63/100\n",
            "225/225 [==============================] - 13s 56ms/step - loss: 0.9588 - accuracy: 0.6454 - val_loss: 1.0371 - val_accuracy: 0.6134\n",
            "Epoch 64/100\n",
            "225/225 [==============================] - 13s 56ms/step - loss: 0.9580 - accuracy: 0.6403 - val_loss: 1.0272 - val_accuracy: 0.6225\n",
            "Epoch 65/100\n",
            "225/225 [==============================] - 12s 54ms/step - loss: 0.9632 - accuracy: 0.6416 - val_loss: 1.0273 - val_accuracy: 0.6226\n",
            "Epoch 66/100\n",
            "225/225 [==============================] - 13s 56ms/step - loss: 0.9473 - accuracy: 0.6470 - val_loss: 1.0258 - val_accuracy: 0.6215\n",
            "Epoch 67/100\n",
            "225/225 [==============================] - 12s 55ms/step - loss: 0.9484 - accuracy: 0.6506 - val_loss: 1.0300 - val_accuracy: 0.6170\n",
            "Epoch 68/100\n",
            "225/225 [==============================] - 13s 57ms/step - loss: 0.9458 - accuracy: 0.6465 - val_loss: 1.0159 - val_accuracy: 0.6225\n",
            "Epoch 69/100\n",
            "225/225 [==============================] - 12s 55ms/step - loss: 0.9345 - accuracy: 0.6543 - val_loss: 1.0283 - val_accuracy: 0.6218\n",
            "Epoch 70/100\n",
            "225/225 [==============================] - 13s 56ms/step - loss: 0.9356 - accuracy: 0.6498 - val_loss: 1.0244 - val_accuracy: 0.6194\n",
            "Epoch 71/100\n",
            "225/225 [==============================] - 12s 54ms/step - loss: 0.9242 - accuracy: 0.6551 - val_loss: 1.0191 - val_accuracy: 0.6283\n",
            "Epoch 72/100\n",
            "225/225 [==============================] - 12s 54ms/step - loss: 0.9258 - accuracy: 0.6566 - val_loss: 1.0269 - val_accuracy: 0.6204\n",
            "Epoch 73/100\n",
            "225/225 [==============================] - 13s 56ms/step - loss: 0.9279 - accuracy: 0.6552 - val_loss: 1.0295 - val_accuracy: 0.6177\n",
            "Epoch 74/100\n",
            "225/225 [==============================] - 13s 56ms/step - loss: 0.9169 - accuracy: 0.6585 - val_loss: 1.0322 - val_accuracy: 0.6208\n",
            "Epoch 75/100\n",
            "225/225 [==============================] - 12s 55ms/step - loss: 0.9116 - accuracy: 0.6624 - val_loss: 1.0311 - val_accuracy: 0.6165\n",
            "Epoch 76/100\n",
            "225/225 [==============================] - 12s 55ms/step - loss: 0.9063 - accuracy: 0.6661 - val_loss: 1.0239 - val_accuracy: 0.6206\n",
            "Epoch 77/100\n",
            "225/225 [==============================] - 12s 54ms/step - loss: 0.9071 - accuracy: 0.6648 - val_loss: 1.0258 - val_accuracy: 0.6250\n",
            "Epoch 78/100\n",
            "225/225 [==============================] - 12s 54ms/step - loss: 0.9018 - accuracy: 0.6656 - val_loss: 1.0168 - val_accuracy: 0.6250\n",
            "Epoch 79/100\n",
            "225/225 [==============================] - 12s 55ms/step - loss: 0.8974 - accuracy: 0.6671 - val_loss: 1.0232 - val_accuracy: 0.6247\n",
            "Epoch 80/100\n",
            "225/225 [==============================] - 12s 55ms/step - loss: 0.9011 - accuracy: 0.6659 - val_loss: 1.0316 - val_accuracy: 0.6199\n",
            "Epoch 81/100\n",
            "225/225 [==============================] - 12s 55ms/step - loss: 0.8933 - accuracy: 0.6667 - val_loss: 1.0237 - val_accuracy: 0.6282\n",
            "Epoch 82/100\n",
            "225/225 [==============================] - 12s 54ms/step - loss: 0.8862 - accuracy: 0.6713 - val_loss: 1.0169 - val_accuracy: 0.6279\n",
            "Epoch 83/100\n",
            "225/225 [==============================] - 12s 54ms/step - loss: 0.8789 - accuracy: 0.6754 - val_loss: 1.0183 - val_accuracy: 0.6284\n",
            "Epoch 84/100\n",
            "225/225 [==============================] - 13s 56ms/step - loss: 0.8709 - accuracy: 0.6791 - val_loss: 1.0251 - val_accuracy: 0.6254\n",
            "Epoch 85/100\n",
            "225/225 [==============================] - 13s 57ms/step - loss: 0.8832 - accuracy: 0.6758 - val_loss: 1.0243 - val_accuracy: 0.6232\n",
            "Epoch 86/100\n",
            "225/225 [==============================] - 12s 55ms/step - loss: 0.8673 - accuracy: 0.6810 - val_loss: 1.0264 - val_accuracy: 0.6258\n",
            "Epoch 87/100\n",
            "225/225 [==============================] - 12s 55ms/step - loss: 0.8648 - accuracy: 0.6826 - val_loss: 1.0188 - val_accuracy: 0.6275\n",
            "Epoch 88/100\n",
            "225/225 [==============================] - 13s 57ms/step - loss: 0.8628 - accuracy: 0.6841 - val_loss: 1.0268 - val_accuracy: 0.6243\n",
            "Epoch 89/100\n",
            "225/225 [==============================] - 12s 55ms/step - loss: 0.8608 - accuracy: 0.6799 - val_loss: 1.0254 - val_accuracy: 0.6209\n",
            "Epoch 90/100\n",
            "225/225 [==============================] - 12s 55ms/step - loss: 0.8490 - accuracy: 0.6860 - val_loss: 1.0248 - val_accuracy: 0.6264\n",
            "Epoch 91/100\n",
            "225/225 [==============================] - 12s 55ms/step - loss: 0.8549 - accuracy: 0.6814 - val_loss: 1.0212 - val_accuracy: 0.6315\n",
            "Epoch 92/100\n",
            "225/225 [==============================] - 13s 57ms/step - loss: 0.8437 - accuracy: 0.6913 - val_loss: 1.0246 - val_accuracy: 0.6268\n",
            "Epoch 93/100\n",
            "225/225 [==============================] - 12s 55ms/step - loss: 0.8490 - accuracy: 0.6882 - val_loss: 1.0249 - val_accuracy: 0.6245\n",
            "Epoch 94/100\n",
            "225/225 [==============================] - 12s 55ms/step - loss: 0.8434 - accuracy: 0.6901 - val_loss: 1.0172 - val_accuracy: 0.6340\n",
            "Epoch 95/100\n",
            "225/225 [==============================] - 13s 57ms/step - loss: 0.8351 - accuracy: 0.6924 - val_loss: 1.0346 - val_accuracy: 0.6223\n",
            "Epoch 96/100\n",
            "225/225 [==============================] - 12s 55ms/step - loss: 0.8358 - accuracy: 0.6940 - val_loss: 1.0172 - val_accuracy: 0.6332\n",
            "Epoch 97/100\n",
            "225/225 [==============================] - 13s 57ms/step - loss: 0.8346 - accuracy: 0.6937 - val_loss: 1.0178 - val_accuracy: 0.6367\n",
            "Epoch 98/100\n",
            "225/225 [==============================] - 12s 55ms/step - loss: 0.8262 - accuracy: 0.6970 - val_loss: 1.0191 - val_accuracy: 0.6332\n",
            "Epoch 99/100\n",
            "225/225 [==============================] - 12s 55ms/step - loss: 0.8224 - accuracy: 0.6994 - val_loss: 1.0310 - val_accuracy: 0.6271\n",
            "Epoch 100/100\n",
            "225/225 [==============================] - 12s 55ms/step - loss: 0.8172 - accuracy: 0.7007 - val_loss: 1.0219 - val_accuracy: 0.6318\n"
          ]
        }
      ]
    },
    {
      "cell_type": "code",
      "source": [
        "acc = history.history['accuracy']\n",
        "val_acc = history.history['val_accuracy']\n",
        "epochs = range(len(acc))\n",
        "\n",
        "plt.plot(epochs, acc, 'b', label='Training Accuracy')\n",
        "plt.plot(epochs, val_acc, 'r', label='Validation Accuracy')\n",
        "plt.title('Accuracy Graph')\n",
        "plt.legend()\n",
        "plt.figure()\n",
        "\n",
        "loss = history.history['loss']\n",
        "val_loss = history.history['val_loss']\n",
        "epochs = range(len(acc))\n",
        "\n",
        "plt.plot(epochs, loss, 'b', label='Training Loss')\n",
        "plt.plot(epochs, val_loss, 'r', label='Validation Loss')\n",
        "plt.title('Loss Graph')\n",
        "plt.legend()\n",
        "\n",
        "plt.show()"
      ],
      "metadata": {
        "colab": {
          "base_uri": "https://localhost:8080/",
          "height": 545
        },
        "id": "kWlncL7M6ylj",
        "outputId": "e42cfa72-5f92-4b4e-aeb5-fd2fff892f5a"
      },
      "execution_count": 23,
      "outputs": [
        {
          "output_type": "display_data",
          "data": {
            "text/plain": [
              "<Figure size 432x288 with 1 Axes>"
            ],
            "image/png": "[encoded data removed]"
          },
          "metadata": {
            "needs_background": "light"
          }
        },
        {
          "output_type": "display_data",
          "data": {
            "text/plain": [
              "<Figure size 432x288 with 1 Axes>"
            ],
            "image/png": "[encoded data removed]"
          },
          "metadata": {
            "needs_background": "light"
          }
        }
      ]
    },
    {
      "cell_type": "code",
      "source": [
        "image_index = random.randint(0, len(test))\n",
        "print(\"Original Output:\", test['label'][image_index])\n",
        "pred = model.predict(x_test[image_index].reshape(1, 48, 48, 1))\n",
        "prediction_label = le.inverse_transform([pred.argmax()])[0]\n",
        "print(\"Predicted Output:\", prediction_label)\n",
        "plt.imshow(x_test[image_index].reshape(48, 48), cmap='gray');"
      ],
      "metadata": {
        "colab": {
          "base_uri": "https://localhost:8080/",
          "height": 319
        },
        "id": "Rt2kVhTC61Dx",
        "outputId": "1e9daef6-83fd-4797-c615-6b176acb9127"
      },
      "execution_count": 24,
      "outputs": [
        {
          "output_type": "stream",
          "name": "stdout",
          "text": [
            "Original Output: happy\n",
            "1/1 [==============================] - 0s 207ms/step\n",
            "Predicted Output: sad\n"
          ]
        },
        {
          "output_type": "display_data",
          "data": {
            "text/plain": [
              "<Figure size 432x288 with 1 Axes>"
            ],
            "image/png": "[encoded data removed]"
          },
          "metadata": {
            "needs_background": "light"
          }
        }
      ]
    },
    {
      "cell_type": "code",
      "source": [
        "image_index = random.randint(0, len(test))\n",
        "print(\"Original Output:\", test['label'][image_index])\n",
        "pred = model.predict(x_test[image_index].reshape(1, 48, 48, 1))\n",
        "prediction_label = le.inverse_transform([pred.argmax()])[0]\n",
        "print(\"Predicted Output:\", prediction_label)\n",
        "plt.imshow(x_test[image_index].reshape(48, 48), cmap='gray');"
      ],
      "metadata": {
        "colab": {
          "base_uri": "https://localhost:8080/",
          "height": 319
        },
        "id": "tv4VrehK63-Q",
        "outputId": "a20019bc-27b5-42ad-faa1-ee7d11181835"
      },
      "execution_count": 25,
      "outputs": [
        {
          "output_type": "stream",
          "name": "stdout",
          "text": [
            "Original Output: fear\n",
            "1/1 [==============================] - 0s 15ms/step\n",
            "Predicted Output: happy\n"
          ]
        },
        {
          "output_type": "display_data",
          "data": {
            "text/plain": [
              "<Figure size 432x288 with 1 Axes>"
            ],
            "image/png": "[encoded data removed]"
          },
          "metadata": {
            "needs_background": "light"
          }
        }
      ]
    },
    {
      "cell_type": "code",
      "source": [
        "image_index = random.randint(0, len(test))\n",
        "print(\"Original Output:\", test['label'][image_index])\n",
        "pred = model.predict(x_test[image_index].reshape(1, 48, 48, 1))\n",
        "prediction_label = le.inverse_transform([pred.argmax()])[0]\n",
        "print(\"Predicted Output:\", prediction_label)\n",
        "plt.imshow(x_test[image_index].reshape(48, 48), cmap='gray');"
      ],
      "metadata": {
        "colab": {
          "base_uri": "https://localhost:8080/",
          "height": 319
        },
        "id": "oEESwGOX7FwC",
        "outputId": "0bb14c54-65df-481a-fd10-7e704d0cb365"
      },
      "execution_count": 26,
      "outputs": [
        {
          "output_type": "stream",
          "name": "stdout",
          "text": [
            "Original Output: happy\n",
            "1/1 [==============================] - 0s 18ms/step\n",
            "Predicted Output: happy\n"
          ]
        },
        {
          "output_type": "display_data",
          "data": {
            "text/plain": [
              "<Figure size 432x288 with 1 Axes>"
            ],
            "image/png": "[encoded data removed]"
          },
          "metadata": {
            "needs_background": "light"
          }
        }
      ]
    }
  ]
}